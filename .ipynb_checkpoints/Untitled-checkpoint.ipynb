{
 "cells": [
  {
   "cell_type": "code",
   "execution_count": 455,
   "id": "9585e687",
   "metadata": {},
   "outputs": [],
   "source": [
    "import pandas as pd\n",
    "import seaborn as sns\n",
    "import numpy as np\n",
    "import matplotlib.pyplot as plt\n",
    "import math\n",
    "%matplotlib inline"
   ]
  },
  {
   "cell_type": "code",
   "execution_count": 456,
   "id": "1bbd0947",
   "metadata": {},
   "outputs": [],
   "source": [
    "df = pd.read_csv('Nigerian_Car_Prices.csv')"
   ]
  },
  {
   "cell_type": "code",
   "execution_count": 554,
   "id": "26c87ddd",
   "metadata": {},
   "outputs": [
    {
     "data": {
      "text/html": [
       "<div>\n",
       "<style scoped>\n",
       "    .dataframe tbody tr th:only-of-type {\n",
       "        vertical-align: middle;\n",
       "    }\n",
       "\n",
       "    .dataframe tbody tr th {\n",
       "        vertical-align: top;\n",
       "    }\n",
       "\n",
       "    .dataframe thead th {\n",
       "        text-align: right;\n",
       "    }\n",
       "</style>\n",
       "<table border=\"1\" class=\"dataframe\">\n",
       "  <thead>\n",
       "    <tr style=\"text-align: right;\">\n",
       "      <th></th>\n",
       "      <th>Make</th>\n",
       "      <th>Year of manufacture</th>\n",
       "      <th>Condition</th>\n",
       "      <th>Mileage</th>\n",
       "      <th>Engine Size</th>\n",
       "      <th>Fuel</th>\n",
       "      <th>Transmission</th>\n",
       "      <th>Price</th>\n",
       "      <th>Build</th>\n",
       "    </tr>\n",
       "  </thead>\n",
       "  <tbody>\n",
       "    <tr>\n",
       "      <th>0</th>\n",
       "      <td>Toyota</td>\n",
       "      <td>2007.0</td>\n",
       "      <td>Nigerian Used</td>\n",
       "      <td>166418.0</td>\n",
       "      <td>2400.0</td>\n",
       "      <td>Petrol</td>\n",
       "      <td>Automatic</td>\n",
       "      <td>3,120,000</td>\n",
       "      <td>NaN</td>\n",
       "    </tr>\n",
       "    <tr>\n",
       "      <th>1</th>\n",
       "      <td>Lexus</td>\n",
       "      <td>2007.0</td>\n",
       "      <td>NaN</td>\n",
       "      <td>138024.0</td>\n",
       "      <td>NaN</td>\n",
       "      <td>NaN</td>\n",
       "      <td>Automatic</td>\n",
       "      <td>5,834,000</td>\n",
       "      <td>NaN</td>\n",
       "    </tr>\n",
       "    <tr>\n",
       "      <th>2</th>\n",
       "      <td>Mercedes-Benz</td>\n",
       "      <td>2008.0</td>\n",
       "      <td>Nigerian Used</td>\n",
       "      <td>376807.0</td>\n",
       "      <td>3000.0</td>\n",
       "      <td>Petrol</td>\n",
       "      <td>Automatic</td>\n",
       "      <td>3,640,000</td>\n",
       "      <td>NaN</td>\n",
       "    </tr>\n",
       "    <tr>\n",
       "      <th>3</th>\n",
       "      <td>Lexus</td>\n",
       "      <td>2007.0</td>\n",
       "      <td>NaN</td>\n",
       "      <td>213362.0</td>\n",
       "      <td>NaN</td>\n",
       "      <td>NaN</td>\n",
       "      <td>Automatic</td>\n",
       "      <td>3,594,000</td>\n",
       "      <td>NaN</td>\n",
       "    </tr>\n",
       "    <tr>\n",
       "      <th>4</th>\n",
       "      <td>Mercedes-Benz</td>\n",
       "      <td>2007.0</td>\n",
       "      <td>NaN</td>\n",
       "      <td>106199.0</td>\n",
       "      <td>NaN</td>\n",
       "      <td>NaN</td>\n",
       "      <td>Automatic</td>\n",
       "      <td>8,410,000</td>\n",
       "      <td>NaN</td>\n",
       "    </tr>\n",
       "  </tbody>\n",
       "</table>\n",
       "</div>"
      ],
      "text/plain": [
       "            Make  Year of manufacture      Condition   Mileage  Engine Size  \\\n",
       "0         Toyota               2007.0  Nigerian Used  166418.0       2400.0   \n",
       "1          Lexus               2007.0            NaN  138024.0          NaN   \n",
       "2  Mercedes-Benz               2008.0  Nigerian Used  376807.0       3000.0   \n",
       "3          Lexus               2007.0            NaN  213362.0          NaN   \n",
       "4  Mercedes-Benz               2007.0            NaN  106199.0          NaN   \n",
       "\n",
       "     Fuel Transmission      Price Build  \n",
       "0  Petrol    Automatic  3,120,000   NaN  \n",
       "1     NaN    Automatic  5,834,000   NaN  \n",
       "2  Petrol    Automatic  3,640,000   NaN  \n",
       "3     NaN    Automatic  3,594,000   NaN  \n",
       "4     NaN    Automatic  8,410,000   NaN  "
      ]
     },
     "execution_count": 554,
     "metadata": {},
     "output_type": "execute_result"
    }
   ],
   "source": [
    "df.head()"
   ]
  },
  {
   "cell_type": "code",
   "execution_count": 458,
   "id": "21c9d800",
   "metadata": {},
   "outputs": [
    {
     "name": "stdout",
     "output_type": "stream",
     "text": [
      "<class 'pandas.core.frame.DataFrame'>\n",
      "RangeIndex: 4095 entries, 0 to 4094\n",
      "Data columns (total 10 columns):\n",
      " #   Column               Non-Null Count  Dtype  \n",
      "---  ------               --------------  -----  \n",
      " 0   Unnamed: 0           4095 non-null   int64  \n",
      " 1   Make                 4095 non-null   object \n",
      " 2   Year of manufacture  3617 non-null   float64\n",
      " 3   Condition            3616 non-null   object \n",
      " 4   Mileage              4024 non-null   float64\n",
      " 5   Engine Size          3584 non-null   float64\n",
      " 6   Fuel                 3607 non-null   object \n",
      " 7   Transmission         4075 non-null   object \n",
      " 8   Price                4095 non-null   object \n",
      " 9   Build                1127 non-null   object \n",
      "dtypes: float64(3), int64(1), object(6)\n",
      "memory usage: 320.0+ KB\n"
     ]
    }
   ],
   "source": [
    "df.info()"
   ]
  },
  {
   "cell_type": "code",
   "execution_count": 459,
   "id": "742916a4",
   "metadata": {},
   "outputs": [],
   "source": [
    "df.drop('Unnamed: 0',axis = 1, inplace = True)"
   ]
  },
  {
   "cell_type": "code",
   "execution_count": 460,
   "id": "89e93478",
   "metadata": {},
   "outputs": [
    {
     "data": {
      "text/plain": [
       "array([2007.,   nan, 2008., 2011., 2014., 2016., 2009., 2017., 2010.,\n",
       "       2015., 2006., 2013., 2000., 2012., 2004., 2018., 2005., 2002.,\n",
       "       2001., 2019., 2003., 2020., 2021., 1998., 1996., 1999., 1997.,\n",
       "       1995., 1992., 1994.])"
      ]
     },
     "execution_count": 460,
     "metadata": {},
     "output_type": "execute_result"
    }
   ],
   "source": [
    "df['Year of manufacture'].unique()"
   ]
  },
  {
   "cell_type": "code",
   "execution_count": 461,
   "id": "e4a59b96",
   "metadata": {},
   "outputs": [
    {
     "data": {
      "text/plain": [
       "<seaborn.axisgrid.FacetGrid at 0x18dd063b6d0>"
      ]
     },
     "execution_count": 461,
     "metadata": {},
     "output_type": "execute_result"
    },
    {
     "data": {
      "image/png": "[encoded data removed]",
      "text/plain": [
       "<Figure size 500x500 with 1 Axes>"
      ]
     },
     "metadata": {},
     "output_type": "display_data"
    }
   ],
   "source": [
    "sns.displot(df['Year of manufacture'])"
   ]
  },
  {
   "cell_type": "code",
   "execution_count": 462,
   "id": "67d867f8",
   "metadata": {},
   "outputs": [
    {
     "data": {
      "text/plain": [
       "2007.898534697263"
      ]
     },
     "execution_count": 462,
     "metadata": {},
     "output_type": "execute_result"
    }
   ],
   "source": [
    "df['Year of manufacture'].mean()"
   ]
  },
  {
   "cell_type": "code",
   "execution_count": 463,
   "id": "9d239bb8",
   "metadata": {},
   "outputs": [],
   "source": [
    "df['Year of manufacture'].fillna(value = 2007.0, inplace = True)"
   ]
  },
  {
   "cell_type": "code",
   "execution_count": 464,
   "id": "39890e5e",
   "metadata": {},
   "outputs": [
    {
     "data": {
      "text/plain": [
       "81"
      ]
     },
     "execution_count": 464,
     "metadata": {},
     "output_type": "execute_result"
    }
   ],
   "source": [
    "df['Engine Size'].nunique()"
   ]
  },
  {
   "cell_type": "code",
   "execution_count": 465,
   "id": "cf6bc38b",
   "metadata": {},
   "outputs": [
    {
     "data": {
      "text/plain": [
       "3274.9765625"
      ]
     },
     "execution_count": 465,
     "metadata": {},
     "output_type": "execute_result"
    }
   ],
   "source": [
    "df['Engine Size'].mean()"
   ]
  },
  {
   "cell_type": "code",
   "execution_count": 466,
   "id": "d2665e5c",
   "metadata": {},
   "outputs": [
    {
     "data": {
      "text/plain": [
       "Engine Size\n",
       "3500.0     820\n",
       "2400.0     520\n",
       "1800.0     437\n",
       "3000.0     306\n",
       "2500.0     256\n",
       "2000.0     235\n",
       "3300.0     144\n",
       "1600.0      92\n",
       "4700.0      65\n",
       "2700.0      57\n",
       "4000.0      54\n",
       "4600.0      37\n",
       "2200.0      37\n",
       "35.0        34\n",
       "3700.0      34\n",
       "3600.0      32\n",
       "1500.0      30\n",
       "1400.0      30\n",
       "2300.0      29\n",
       "3200.0      24\n",
       "5000.0      22\n",
       "35000.0     20\n",
       "4400.0      18\n",
       "5600.0      18\n",
       "3400.0      17\n",
       "1100.0      13\n",
       "3800.0      13\n",
       "4500.0      12\n",
       "5700.0      12\n",
       "24.0        11\n",
       "30.0        11\n",
       "5500.0       9\n",
       "1300.0       8\n",
       "2600.0       8\n",
       "5400.0       7\n",
       "4800.0       7\n",
       "4200.0       6\n",
       "2100.0       5\n",
       "1200.0       5\n",
       "18.0         5\n",
       "Name: Make, dtype: int64"
      ]
     },
     "execution_count": 466,
     "metadata": {},
     "output_type": "execute_result"
    }
   ],
   "source": [
    "df.groupby('Engine Size').count()['Make'].sort_values(ascending = False).head(40)"
   ]
  },
  {
   "cell_type": "code",
   "execution_count": 467,
   "id": "d66c2beb",
   "metadata": {},
   "outputs": [
    {
     "data": {
      "text/plain": [
       "Engine Size\n",
       "371000.0    1\n",
       "4100.0      1\n",
       "400.0       1\n",
       "300.0       1\n",
       "4300.0      1\n",
       "4900.0      1\n",
       "5300.0      1\n",
       "40.0        1\n",
       "36.0        1\n",
       "184421.0    1\n",
       "22000.0     1\n",
       "33000.0     1\n",
       "40000.0     1\n",
       "42000.0     1\n",
       "45000.0     1\n",
       "47000.0     1\n",
       "56000.0     1\n",
       "14.0        1\n",
       "23000.0     1\n",
       "1330.0      1\n",
       "6000.0      2\n",
       "50000.0     2\n",
       "3.0         2\n",
       "16.0        2\n",
       "47.0        2\n",
       "45.0        2\n",
       "22.0        2\n",
       "33.0        2\n",
       "57.0        2\n",
       "200.0       3\n",
       "16000.0     3\n",
       "1000.0      3\n",
       "25.0        3\n",
       "1900.0      4\n",
       "20000.0     4\n",
       "1700.0      4\n",
       "20.0        4\n",
       "2800.0      4\n",
       "24000.0     4\n",
       "18000.0     5\n",
       "Name: Make, dtype: int64"
      ]
     },
     "execution_count": 467,
     "metadata": {},
     "output_type": "execute_result"
    }
   ],
   "source": [
    "df.groupby('Engine Size').count()['Make'].sort_values(ascending = True).head(40)"
   ]
  },
  {
   "cell_type": "code",
   "execution_count": null,
   "id": "4ea1ffdf",
   "metadata": {},
   "outputs": [],
   "source": [
    "temp = temp[temp['Engine Size'].notna()]"
   ]
  },
  {
   "cell_type": "code",
   "execution_count": 557,
   "id": "d9a073b3",
   "metadata": {},
   "outputs": [
    {
     "data": {
      "text/plain": [
       "Toyota           1469\n",
       "Lexus             464\n",
       "Mercedes-Benz     436\n",
       "Honda             428\n",
       "Ford              197\n",
       "Hyundai           179\n",
       "Nissan            173\n",
       "Kia                90\n",
       "Land Rover         74\n",
       "Volkswagen         64\n",
       "Mazda              63\n",
       "BMW                63\n",
       "Acura              56\n",
       "Infiniti           41\n",
       "Chevrolet          40\n",
       "Peugeot            36\n",
       "Mitsubishi         23\n",
       "Pontiac            22\n",
       "Volvo              22\n",
       "Suzuki             21\n",
       "Dodge              17\n",
       "Audi               14\n",
       "Opel               12\n",
       "Jaguar             11\n",
       "Jeep               11\n",
       "Porsche             9\n",
       "Renault             8\n",
       "Chrysler            7\n",
       "Fiat                6\n",
       "GMC                 5\n",
       "Changan             4\n",
       "Lincoln             4\n",
       "Skoda               3\n",
       "Hummer              2\n",
       "Buick               2\n",
       "JAC                 2\n",
       "Citroen             2\n",
       "Isuzu               2\n",
       "Mini                2\n",
       "MG                  2\n",
       "Rover               1\n",
       "Bentley             1\n",
       "Seat                1\n",
       "SsangYong           1\n",
       "Cadillac            1\n",
       "Saturn              1\n",
       "Tata                1\n",
       "Foton               1\n",
       "Daihatsu            1\n",
       "Name: Make, dtype: int64"
      ]
     },
     "execution_count": 557,
     "metadata": {},
     "output_type": "execute_result"
    }
   ],
   "source": [
    "df['Make'].value_counts()"
   ]
  },
  {
   "cell_type": "code",
   "execution_count": null,
   "id": "ff4d22fa",
   "metadata": {},
   "outputs": [],
   "source": []
  },
  {
   "cell_type": "code",
   "execution_count": 468,
   "id": "c3158db6",
   "metadata": {},
   "outputs": [],
   "source": [
    "temp = df"
   ]
  },
  {
   "cell_type": "code",
   "execution_count": 469,
   "id": "02301f7c",
   "metadata": {},
   "outputs": [],
   "source": [
    "def weed(df_col, Col):\n",
    "    for i in range(len(df_col)):\n",
    "        if 1000 <= Col <= 10000:\n",
    "            return Col\n",
    "            \n",
    "        \n",
    "        else:\n",
    "            Col = None\n",
    "            return Col"
   ]
  },
  {
   "cell_type": "code",
   "execution_count": 470,
   "id": "5e41fb8f",
   "metadata": {},
   "outputs": [],
   "source": [
    "temp['Engine Size'] = temp['Engine Size'].apply(lambda x: weed(df['Engine Size'],x))"
   ]
  },
  {
   "cell_type": "code",
   "execution_count": 471,
   "id": "00ac3ded",
   "metadata": {},
   "outputs": [
    {
     "data": {
      "text/plain": [
       "3500.0    820\n",
       "2400.0    520\n",
       "1800.0    437\n",
       "3000.0    306\n",
       "2500.0    256\n",
       "2000.0    235\n",
       "3300.0    144\n",
       "1600.0     92\n",
       "4700.0     65\n",
       "2700.0     57\n",
       "4000.0     54\n",
       "4600.0     37\n",
       "2200.0     37\n",
       "3700.0     34\n",
       "3600.0     32\n",
       "1400.0     30\n",
       "1500.0     30\n",
       "2300.0     29\n",
       "3200.0     24\n",
       "5000.0     22\n",
       "4400.0     18\n",
       "5600.0     18\n",
       "3400.0     17\n",
       "3800.0     13\n",
       "1100.0     13\n",
       "5700.0     12\n",
       "4500.0     12\n",
       "5500.0      9\n",
       "1300.0      8\n",
       "2600.0      8\n",
       "4800.0      7\n",
       "5400.0      7\n",
       "4200.0      6\n",
       "1200.0      5\n",
       "2100.0      5\n",
       "2900.0      5\n",
       "2800.0      4\n",
       "1900.0      4\n",
       "1700.0      4\n",
       "1000.0      3\n",
       "6000.0      2\n",
       "4900.0      1\n",
       "4300.0      1\n",
       "1330.0      1\n",
       "4100.0      1\n",
       "5300.0      1\n",
       "Name: Engine Size, dtype: int64"
      ]
     },
     "execution_count": 471,
     "metadata": {},
     "output_type": "execute_result"
    }
   ],
   "source": [
    "temp['Engine Size'].value_counts()"
   ]
  },
  {
   "cell_type": "code",
   "execution_count": 472,
   "id": "20f11bc9",
   "metadata": {},
   "outputs": [],
   "source": [
    "temp = temp[temp['Engine Size'].notna()]"
   ]
  },
  {
   "cell_type": "code",
   "execution_count": 473,
   "id": "8b7552c8",
   "metadata": {},
   "outputs": [
    {
     "data": {
      "text/plain": [
       "Nigerian Used    2404\n",
       "Foreign Used     1038\n",
       "Brand New           3\n",
       "Name: Condition, dtype: int64"
      ]
     },
     "execution_count": 473,
     "metadata": {},
     "output_type": "execute_result"
    }
   ],
   "source": [
    "temp['Condition'].value_counts()"
   ]
  },
  {
   "cell_type": "code",
   "execution_count": 474,
   "id": "9272cd97",
   "metadata": {},
   "outputs": [
    {
     "name": "stdout",
     "output_type": "stream",
     "text": [
      "<class 'pandas.core.frame.DataFrame'>\n",
      "Int64Index: 3446 entries, 0 to 4094\n",
      "Data columns (total 9 columns):\n",
      " #   Column               Non-Null Count  Dtype  \n",
      "---  ------               --------------  -----  \n",
      " 0   Make                 3446 non-null   object \n",
      " 1   Year of manufacture  3446 non-null   float64\n",
      " 2   Condition            3445 non-null   object \n",
      " 3   Mileage              3396 non-null   float64\n",
      " 4   Engine Size          3446 non-null   float64\n",
      " 5   Fuel                 3440 non-null   object \n",
      " 6   Transmission         3441 non-null   object \n",
      " 7   Price                3446 non-null   object \n",
      " 8   Build                1074 non-null   object \n",
      "dtypes: float64(3), object(6)\n",
      "memory usage: 269.2+ KB\n"
     ]
    }
   ],
   "source": [
    "temp.info()"
   ]
  },
  {
   "cell_type": "code",
   "execution_count": 475,
   "id": "11d95d23",
   "metadata": {},
   "outputs": [],
   "source": [
    "Mile_mean = temp['Mileage'].mean()"
   ]
  },
  {
   "cell_type": "code",
   "execution_count": 476,
   "id": "f9fb027d",
   "metadata": {},
   "outputs": [
    {
     "name": "stderr",
     "output_type": "stream",
     "text": [
      "C:\\Users\\Oreoluwa\\anaconda3\\lib\\site-packages\\pandas\\core\\generic.py:6392: SettingWithCopyWarning: \n",
      "A value is trying to be set on a copy of a slice from a DataFrame\n",
      "\n",
      "See the caveats in the documentation: https://pandas.pydata.org/pandas-docs/stable/user_guide/indexing.html#returning-a-view-versus-a-copy\n",
      "  return self._update_inplace(result)\n"
     ]
    }
   ],
   "source": [
    "temp['Mileage'].fillna(value = Mile_mean, inplace = True)"
   ]
  },
  {
   "cell_type": "code",
   "execution_count": 477,
   "id": "660efd64",
   "metadata": {},
   "outputs": [],
   "source": [
    "temp['Condition'].fillna('Nigerian Used', inplace = True)"
   ]
  },
  {
   "cell_type": "code",
   "execution_count": 478,
   "id": "c9e43118",
   "metadata": {},
   "outputs": [
    {
     "data": {
      "text/plain": [
       "array(['Petrol', 'Diesel', 'Hybrid', nan, 'Electric'], dtype=object)"
      ]
     },
     "execution_count": 478,
     "metadata": {},
     "output_type": "execute_result"
    }
   ],
   "source": [
    "temp['Fuel'].unique()"
   ]
  },
  {
   "cell_type": "code",
   "execution_count": null,
   "id": "99bd447e",
   "metadata": {},
   "outputs": [],
   "source": []
  },
  {
   "cell_type": "code",
   "execution_count": 479,
   "id": "e7dea391",
   "metadata": {},
   "outputs": [
    {
     "data": {
      "text/html": [
       "<div>\n",
       "<style scoped>\n",
       "    .dataframe tbody tr th:only-of-type {\n",
       "        vertical-align: middle;\n",
       "    }\n",
       "\n",
       "    .dataframe tbody tr th {\n",
       "        vertical-align: top;\n",
       "    }\n",
       "\n",
       "    .dataframe thead th {\n",
       "        text-align: right;\n",
       "    }\n",
       "</style>\n",
       "<table border=\"1\" class=\"dataframe\">\n",
       "  <thead>\n",
       "    <tr style=\"text-align: right;\">\n",
       "      <th></th>\n",
       "      <th>Make</th>\n",
       "      <th>Year of manufacture</th>\n",
       "      <th>Condition</th>\n",
       "      <th>Mileage</th>\n",
       "      <th>Engine Size</th>\n",
       "      <th>Fuel</th>\n",
       "      <th>Transmission</th>\n",
       "      <th>Price</th>\n",
       "      <th>Build</th>\n",
       "    </tr>\n",
       "  </thead>\n",
       "  <tbody>\n",
       "    <tr>\n",
       "      <th>569</th>\n",
       "      <td>Toyota</td>\n",
       "      <td>2008.0</td>\n",
       "      <td>Nigerian Used</td>\n",
       "      <td>154929.0</td>\n",
       "      <td>3000.0</td>\n",
       "      <td>NaN</td>\n",
       "      <td>Manual</td>\n",
       "      <td>5,200,000</td>\n",
       "      <td>NaN</td>\n",
       "    </tr>\n",
       "    <tr>\n",
       "      <th>1505</th>\n",
       "      <td>Toyota</td>\n",
       "      <td>2003.0</td>\n",
       "      <td>Nigerian Used</td>\n",
       "      <td>275575.0</td>\n",
       "      <td>3500.0</td>\n",
       "      <td>NaN</td>\n",
       "      <td>Automatic</td>\n",
       "      <td>2,704,000</td>\n",
       "      <td>SUV</td>\n",
       "    </tr>\n",
       "    <tr>\n",
       "      <th>1547</th>\n",
       "      <td>Toyota</td>\n",
       "      <td>2003.0</td>\n",
       "      <td>Nigerian Used</td>\n",
       "      <td>275575.0</td>\n",
       "      <td>3500.0</td>\n",
       "      <td>NaN</td>\n",
       "      <td>Automatic</td>\n",
       "      <td>2,704,000</td>\n",
       "      <td>SUV</td>\n",
       "    </tr>\n",
       "    <tr>\n",
       "      <th>3682</th>\n",
       "      <td>Honda</td>\n",
       "      <td>2005.0</td>\n",
       "      <td>Foreign Used</td>\n",
       "      <td>108714.0</td>\n",
       "      <td>2500.0</td>\n",
       "      <td>NaN</td>\n",
       "      <td>Automatic</td>\n",
       "      <td>2,600,000</td>\n",
       "      <td>NaN</td>\n",
       "    </tr>\n",
       "    <tr>\n",
       "      <th>3703</th>\n",
       "      <td>Honda</td>\n",
       "      <td>2005.0</td>\n",
       "      <td>Foreign Used</td>\n",
       "      <td>108714.0</td>\n",
       "      <td>2500.0</td>\n",
       "      <td>NaN</td>\n",
       "      <td>Automatic</td>\n",
       "      <td>2,600,000</td>\n",
       "      <td>NaN</td>\n",
       "    </tr>\n",
       "    <tr>\n",
       "      <th>3729</th>\n",
       "      <td>Chevrolet</td>\n",
       "      <td>2010.0</td>\n",
       "      <td>Nigerian Used</td>\n",
       "      <td>1800.0</td>\n",
       "      <td>1800.0</td>\n",
       "      <td>NaN</td>\n",
       "      <td>Manual</td>\n",
       "      <td>840,000</td>\n",
       "      <td>NaN</td>\n",
       "    </tr>\n",
       "  </tbody>\n",
       "</table>\n",
       "</div>"
      ],
      "text/plain": [
       "           Make  Year of manufacture      Condition   Mileage  Engine Size  \\\n",
       "569      Toyota               2008.0  Nigerian Used  154929.0       3000.0   \n",
       "1505     Toyota               2003.0  Nigerian Used  275575.0       3500.0   \n",
       "1547     Toyota               2003.0  Nigerian Used  275575.0       3500.0   \n",
       "3682      Honda               2005.0   Foreign Used  108714.0       2500.0   \n",
       "3703      Honda               2005.0   Foreign Used  108714.0       2500.0   \n",
       "3729  Chevrolet               2010.0  Nigerian Used    1800.0       1800.0   \n",
       "\n",
       "     Fuel Transmission      Price Build  \n",
       "569   NaN       Manual  5,200,000   NaN  \n",
       "1505  NaN    Automatic  2,704,000   SUV  \n",
       "1547  NaN    Automatic  2,704,000   SUV  \n",
       "3682  NaN    Automatic  2,600,000   NaN  \n",
       "3703  NaN    Automatic  2,600,000   NaN  \n",
       "3729  NaN       Manual    840,000   NaN  "
      ]
     },
     "execution_count": 479,
     "metadata": {},
     "output_type": "execute_result"
    }
   ],
   "source": [
    "temp[temp['Fuel'].notna() == False]"
   ]
  },
  {
   "cell_type": "code",
   "execution_count": 480,
   "id": "7b2b0325",
   "metadata": {},
   "outputs": [
    {
     "data": {
      "text/plain": [
       "Petrol    1320\n",
       "Hybrid      18\n",
       "Diesel       5\n",
       "Name: Fuel, dtype: int64"
      ]
     },
     "execution_count": 480,
     "metadata": {},
     "output_type": "execute_result"
    }
   ],
   "source": [
    "temp[temp['Make'] == 'Toyota']['Fuel'].value_counts()"
   ]
  },
  {
   "cell_type": "code",
   "execution_count": 481,
   "id": "a82e52f0",
   "metadata": {},
   "outputs": [
    {
     "data": {
      "text/plain": [
       "Petrol    359\n",
       "Hybrid      2\n",
       "Name: Fuel, dtype: int64"
      ]
     },
     "execution_count": 481,
     "metadata": {},
     "output_type": "execute_result"
    }
   ],
   "source": [
    "temp[temp['Make'] == 'Honda']['Fuel'].value_counts()"
   ]
  },
  {
   "cell_type": "code",
   "execution_count": 482,
   "id": "c1d78bc8",
   "metadata": {},
   "outputs": [
    {
     "data": {
      "text/plain": [
       "Petrol    25\n",
       "Hybrid     1\n",
       "Name: Fuel, dtype: int64"
      ]
     },
     "execution_count": 482,
     "metadata": {},
     "output_type": "execute_result"
    }
   ],
   "source": [
    "temp[temp['Make'] == 'Chevrolet']['Fuel'].value_counts()"
   ]
  },
  {
   "cell_type": "code",
   "execution_count": 483,
   "id": "5f9a5ed3",
   "metadata": {},
   "outputs": [
    {
     "name": "stderr",
     "output_type": "stream",
     "text": [
      "C:\\Users\\Oreoluwa\\anaconda3\\lib\\site-packages\\pandas\\core\\generic.py:6392: SettingWithCopyWarning: \n",
      "A value is trying to be set on a copy of a slice from a DataFrame\n",
      "\n",
      "See the caveats in the documentation: https://pandas.pydata.org/pandas-docs/stable/user_guide/indexing.html#returning-a-view-versus-a-copy\n",
      "  return self._update_inplace(result)\n"
     ]
    }
   ],
   "source": [
    "temp['Fuel'].fillna(value = 'Petrol', inplace = True)"
   ]
  },
  {
   "cell_type": "code",
   "execution_count": 484,
   "id": "5b2e1d2d",
   "metadata": {},
   "outputs": [
    {
     "data": {
      "text/html": [
       "<div>\n",
       "<style scoped>\n",
       "    .dataframe tbody tr th:only-of-type {\n",
       "        vertical-align: middle;\n",
       "    }\n",
       "\n",
       "    .dataframe tbody tr th {\n",
       "        vertical-align: top;\n",
       "    }\n",
       "\n",
       "    .dataframe thead th {\n",
       "        text-align: right;\n",
       "    }\n",
       "</style>\n",
       "<table border=\"1\" class=\"dataframe\">\n",
       "  <thead>\n",
       "    <tr style=\"text-align: right;\">\n",
       "      <th></th>\n",
       "      <th>Make</th>\n",
       "      <th>Year of manufacture</th>\n",
       "      <th>Condition</th>\n",
       "      <th>Mileage</th>\n",
       "      <th>Engine Size</th>\n",
       "      <th>Fuel</th>\n",
       "      <th>Transmission</th>\n",
       "      <th>Price</th>\n",
       "      <th>Build</th>\n",
       "    </tr>\n",
       "  </thead>\n",
       "  <tbody>\n",
       "    <tr>\n",
       "      <th>2341</th>\n",
       "      <td>Mercedes-Benz</td>\n",
       "      <td>2007.0</td>\n",
       "      <td>Nigerian Used</td>\n",
       "      <td>191680.258245</td>\n",
       "      <td>3500.0</td>\n",
       "      <td>Petrol</td>\n",
       "      <td>NaN</td>\n",
       "      <td>2,625,000</td>\n",
       "      <td>SUV</td>\n",
       "    </tr>\n",
       "    <tr>\n",
       "      <th>2374</th>\n",
       "      <td>Honda</td>\n",
       "      <td>2009.0</td>\n",
       "      <td>Nigerian Used</td>\n",
       "      <td>125806.000000</td>\n",
       "      <td>2500.0</td>\n",
       "      <td>Petrol</td>\n",
       "      <td>NaN</td>\n",
       "      <td>1,785,000</td>\n",
       "      <td>NaN</td>\n",
       "    </tr>\n",
       "    <tr>\n",
       "      <th>2413</th>\n",
       "      <td>Mercedes-Benz</td>\n",
       "      <td>2007.0</td>\n",
       "      <td>Nigerian Used</td>\n",
       "      <td>191680.258245</td>\n",
       "      <td>3500.0</td>\n",
       "      <td>Petrol</td>\n",
       "      <td>NaN</td>\n",
       "      <td>2,625,000</td>\n",
       "      <td>SUV</td>\n",
       "    </tr>\n",
       "    <tr>\n",
       "      <th>2549</th>\n",
       "      <td>Honda</td>\n",
       "      <td>2009.0</td>\n",
       "      <td>Nigerian Used</td>\n",
       "      <td>125806.000000</td>\n",
       "      <td>2500.0</td>\n",
       "      <td>Petrol</td>\n",
       "      <td>NaN</td>\n",
       "      <td>1,785,000</td>\n",
       "      <td>NaN</td>\n",
       "    </tr>\n",
       "    <tr>\n",
       "      <th>3559</th>\n",
       "      <td>Toyota</td>\n",
       "      <td>2004.0</td>\n",
       "      <td>Nigerian Used</td>\n",
       "      <td>191680.258245</td>\n",
       "      <td>1400.0</td>\n",
       "      <td>Diesel</td>\n",
       "      <td>NaN</td>\n",
       "      <td>1,260,000</td>\n",
       "      <td>NaN</td>\n",
       "    </tr>\n",
       "  </tbody>\n",
       "</table>\n",
       "</div>"
      ],
      "text/plain": [
       "               Make  Year of manufacture      Condition        Mileage  \\\n",
       "2341  Mercedes-Benz               2007.0  Nigerian Used  191680.258245   \n",
       "2374          Honda               2009.0  Nigerian Used  125806.000000   \n",
       "2413  Mercedes-Benz               2007.0  Nigerian Used  191680.258245   \n",
       "2549          Honda               2009.0  Nigerian Used  125806.000000   \n",
       "3559         Toyota               2004.0  Nigerian Used  191680.258245   \n",
       "\n",
       "      Engine Size    Fuel Transmission      Price Build  \n",
       "2341       3500.0  Petrol          NaN  2,625,000   SUV  \n",
       "2374       2500.0  Petrol          NaN  1,785,000   NaN  \n",
       "2413       3500.0  Petrol          NaN  2,625,000   SUV  \n",
       "2549       2500.0  Petrol          NaN  1,785,000   NaN  \n",
       "3559       1400.0  Diesel          NaN  1,260,000   NaN  "
      ]
     },
     "execution_count": 484,
     "metadata": {},
     "output_type": "execute_result"
    }
   ],
   "source": [
    "temp[temp['Transmission'].notna() == False]"
   ]
  },
  {
   "cell_type": "code",
   "execution_count": 485,
   "id": "2afb37c1",
   "metadata": {},
   "outputs": [
    {
     "data": {
      "text/plain": [
       "Automatic    301\n",
       "Manual         7\n",
       "Name: Transmission, dtype: int64"
      ]
     },
     "execution_count": 485,
     "metadata": {},
     "output_type": "execute_result"
    }
   ],
   "source": [
    "temp[temp['Make'] == 'Mercedes-Benz']['Transmission'].value_counts()"
   ]
  },
  {
   "cell_type": "code",
   "execution_count": 486,
   "id": "fc13f7ae",
   "metadata": {},
   "outputs": [
    {
     "data": {
      "text/plain": [
       "Automatic    348\n",
       "Manual         8\n",
       "AMT            3\n",
       "CVT            2\n",
       "Name: Transmission, dtype: int64"
      ]
     },
     "execution_count": 486,
     "metadata": {},
     "output_type": "execute_result"
    }
   ],
   "source": [
    "temp[temp['Make'] == 'Honda']['Transmission'].value_counts()"
   ]
  },
  {
   "cell_type": "code",
   "execution_count": 487,
   "id": "30783fe7",
   "metadata": {},
   "outputs": [
    {
     "data": {
      "text/plain": [
       "Automatic    1289\n",
       "Manual         47\n",
       "AMT             5\n",
       "CVT             4\n",
       "Name: Transmission, dtype: int64"
      ]
     },
     "execution_count": 487,
     "metadata": {},
     "output_type": "execute_result"
    }
   ],
   "source": [
    "temp[temp['Make'] == 'Toyota']['Transmission'].value_counts()"
   ]
  },
  {
   "cell_type": "code",
   "execution_count": 488,
   "id": "496a6f34",
   "metadata": {},
   "outputs": [
    {
     "name": "stderr",
     "output_type": "stream",
     "text": [
      "C:\\Users\\Oreoluwa\\anaconda3\\lib\\site-packages\\pandas\\core\\generic.py:6392: SettingWithCopyWarning: \n",
      "A value is trying to be set on a copy of a slice from a DataFrame\n",
      "\n",
      "See the caveats in the documentation: https://pandas.pydata.org/pandas-docs/stable/user_guide/indexing.html#returning-a-view-versus-a-copy\n",
      "  return self._update_inplace(result)\n"
     ]
    }
   ],
   "source": [
    "temp['Transmission'].fillna(value = 'Automatic', inplace = True)"
   ]
  },
  {
   "cell_type": "code",
   "execution_count": 489,
   "id": "d20381e2",
   "metadata": {},
   "outputs": [
    {
     "data": {
      "text/plain": [
       "SUV    1074\n",
       "Name: Build, dtype: int64"
      ]
     },
     "execution_count": 489,
     "metadata": {},
     "output_type": "execute_result"
    }
   ],
   "source": [
    "temp['Build'].value_counts()"
   ]
  },
  {
   "cell_type": "code",
   "execution_count": 490,
   "id": "4ac44ff5",
   "metadata": {},
   "outputs": [
    {
     "data": {
      "text/plain": [
       "array([nan, 'SUV'], dtype=object)"
      ]
     },
     "execution_count": 490,
     "metadata": {},
     "output_type": "execute_result"
    }
   ],
   "source": [
    "temp['Build'].unique()"
   ]
  },
  {
   "cell_type": "code",
   "execution_count": 491,
   "id": "1dce7e51",
   "metadata": {},
   "outputs": [
    {
     "name": "stderr",
     "output_type": "stream",
     "text": [
      "C:\\Users\\Oreoluwa\\anaconda3\\lib\\site-packages\\pandas\\core\\frame.py:4906: SettingWithCopyWarning: \n",
      "A value is trying to be set on a copy of a slice from a DataFrame\n",
      "\n",
      "See the caveats in the documentation: https://pandas.pydata.org/pandas-docs/stable/user_guide/indexing.html#returning-a-view-versus-a-copy\n",
      "  return super().drop(\n"
     ]
    }
   ],
   "source": [
    "temp.drop('Build', axis = 1, inplace = True)"
   ]
  },
  {
   "cell_type": "code",
   "execution_count": 492,
   "id": "c9bec302",
   "metadata": {},
   "outputs": [
    {
     "name": "stdout",
     "output_type": "stream",
     "text": [
      "<class 'pandas.core.frame.DataFrame'>\n",
      "Int64Index: 3446 entries, 0 to 4094\n",
      "Data columns (total 8 columns):\n",
      " #   Column               Non-Null Count  Dtype  \n",
      "---  ------               --------------  -----  \n",
      " 0   Make                 3446 non-null   object \n",
      " 1   Year of manufacture  3446 non-null   float64\n",
      " 2   Condition            3446 non-null   object \n",
      " 3   Mileage              3446 non-null   float64\n",
      " 4   Engine Size          3446 non-null   float64\n",
      " 5   Fuel                 3446 non-null   object \n",
      " 6   Transmission         3446 non-null   object \n",
      " 7   Price                3446 non-null   object \n",
      "dtypes: float64(3), object(5)\n",
      "memory usage: 242.3+ KB\n"
     ]
    }
   ],
   "source": [
    "temp.info()"
   ]
  },
  {
   "cell_type": "code",
   "execution_count": 493,
   "id": "2fd4db2e",
   "metadata": {},
   "outputs": [],
   "source": [
    "contingency = temp"
   ]
  },
  {
   "cell_type": "code",
   "execution_count": 494,
   "id": "e26ff14a",
   "metadata": {
    "scrolled": true
   },
   "outputs": [],
   "source": [
    "temp = pd.concat([temp,pd.get_dummies(temp['Make'])],axis = 1)"
   ]
  },
  {
   "cell_type": "code",
   "execution_count": 495,
   "id": "16cebccd",
   "metadata": {},
   "outputs": [],
   "source": [
    "temp = temp.drop('Make',axis = 1)"
   ]
  },
  {
   "cell_type": "code",
   "execution_count": 496,
   "id": "7114be70",
   "metadata": {},
   "outputs": [],
   "source": [
    "temp = pd.concat([temp,pd.get_dummies(temp['Condition'])],axis = 1)"
   ]
  },
  {
   "cell_type": "code",
   "execution_count": 497,
   "id": "bcc5ca35",
   "metadata": {},
   "outputs": [],
   "source": [
    "temp = temp.drop('Condition',axis= 1)"
   ]
  },
  {
   "cell_type": "code",
   "execution_count": 498,
   "id": "d9deab66",
   "metadata": {},
   "outputs": [],
   "source": [
    "temp = pd.concat([temp,pd.get_dummies(temp['Fuel'])],axis = 1)"
   ]
  },
  {
   "cell_type": "code",
   "execution_count": 499,
   "id": "d3ddf020",
   "metadata": {},
   "outputs": [],
   "source": [
    "temp = temp.drop('Fuel',axis = 1)"
   ]
  },
  {
   "cell_type": "code",
   "execution_count": 500,
   "id": "54cd7836",
   "metadata": {},
   "outputs": [],
   "source": [
    "temp = pd.concat([temp,pd.get_dummies(temp['Transmission'])],axis = 1)"
   ]
  },
  {
   "cell_type": "code",
   "execution_count": 501,
   "id": "d250b49f",
   "metadata": {},
   "outputs": [],
   "source": [
    "temp = temp.drop('Transmission',axis = 1)"
   ]
  },
  {
   "cell_type": "code",
   "execution_count": 502,
   "id": "0a217dba",
   "metadata": {},
   "outputs": [],
   "source": [
    "def str_conv(Price):\n",
    "    Price = str(Price)\n",
    "    return(Price)"
   ]
  },
  {
   "cell_type": "code",
   "execution_count": 503,
   "id": "6e822c12",
   "metadata": {},
   "outputs": [],
   "source": [
    "temp['Price'] = temp['Price'].apply(lambda x: str_conv(x))"
   ]
  },
  {
   "cell_type": "code",
   "execution_count": 504,
   "id": "02843942",
   "metadata": {},
   "outputs": [],
   "source": [
    "temp['Price'] = temp['Price'].apply(lambda x:x.replace(',',''))"
   ]
  },
  {
   "cell_type": "code",
   "execution_count": 505,
   "id": "f5bbefc6",
   "metadata": {},
   "outputs": [],
   "source": [
    "def float_con(price):\n",
    "    price = float(price)\n",
    "    return price"
   ]
  },
  {
   "cell_type": "code",
   "execution_count": 506,
   "id": "3d654907",
   "metadata": {},
   "outputs": [],
   "source": [
    "temp['Price'] = temp['Price'].apply(lambda x: float_con(x))"
   ]
  },
  {
   "cell_type": "code",
   "execution_count": 507,
   "id": "fb122919",
   "metadata": {},
   "outputs": [
    {
     "data": {
      "text/plain": [
       "3992    472500.0\n",
       "3971    525000.0\n",
       "3927    525000.0\n",
       "3935    525000.0\n",
       "3939    525000.0\n",
       "3998    525000.0\n",
       "3954    525000.0\n",
       "4023    577500.0\n",
       "4016    577500.0\n",
       "4001    577500.0\n",
       "4030    577500.0\n",
       "3969    600000.0\n",
       "4044    618750.0\n",
       "3829    630000.0\n",
       "3957    630000.0\n",
       "3958    630000.0\n",
       "3851    630000.0\n",
       "3974    630000.0\n",
       "3975    630000.0\n",
       "3946    630000.0\n",
       "3949    630000.0\n",
       "4051    675000.0\n",
       "3924    682500.0\n",
       "3785    682500.0\n",
       "3926    682500.0\n",
       "3861    682500.0\n",
       "3810    682500.0\n",
       "3907    682500.0\n",
       "3719    682500.0\n",
       "3836    682500.0\n",
       "Name: Price, dtype: float64"
      ]
     },
     "execution_count": 507,
     "metadata": {},
     "output_type": "execute_result"
    }
   ],
   "source": [
    "temp['Price'].sort_values().head(30)"
   ]
  },
  {
   "cell_type": "code",
   "execution_count": 508,
   "id": "6c0aa93b",
   "metadata": {},
   "outputs": [
    {
     "data": {
      "text/plain": [
       "288     24150000.0\n",
       "175     26000000.0\n",
       "2365    26000000.0\n",
       "191     26000000.0\n",
       "447     26000000.0\n",
       "269     26000000.0\n",
       "554     26250000.0\n",
       "3134    27040000.0\n",
       "3153    27040000.0\n",
       "3897    27300000.0\n",
       "1783    27300000.0\n",
       "3930    27300000.0\n",
       "681     32550000.0\n",
       "247     33280000.0\n",
       "1535    34650000.0\n",
       "94      36750000.0\n",
       "87      36750000.0\n",
       "838     37440000.0\n",
       "4006    39375000.0\n",
       "1732    39900000.0\n",
       "59      41600000.0\n",
       "306     42000000.0\n",
       "54      42000000.0\n",
       "3649    42750000.0\n",
       "4058    45000000.0\n",
       "482     46800000.0\n",
       "3317    49350000.0\n",
       "292     52000000.0\n",
       "424     58800000.0\n",
       "377     58800000.0\n",
       "Name: Price, dtype: float64"
      ]
     },
     "execution_count": 508,
     "metadata": {},
     "output_type": "execute_result"
    }
   ],
   "source": [
    "temp['Price'].sort_values().tail(30)"
   ]
  },
  {
   "cell_type": "code",
   "execution_count": 509,
   "id": "f6c5580f",
   "metadata": {},
   "outputs": [],
   "source": [
    "def weed_price(df_col, Col):\n",
    "    for i in range(len(df_col)):\n",
    "        if 1000000 <= Col <= 10000000:\n",
    "            return Col\n",
    "            \n",
    "        \n",
    "        else:\n",
    "            Col = None\n",
    "            return Col"
   ]
  },
  {
   "cell_type": "code",
   "execution_count": 510,
   "id": "abbdb9f7",
   "metadata": {},
   "outputs": [],
   "source": [
    "temp['Price'] = temp['Price'].apply(lambda x: weed_price(temp['Price'], x))"
   ]
  },
  {
   "cell_type": "code",
   "execution_count": 511,
   "id": "9a7cbf08",
   "metadata": {},
   "outputs": [],
   "source": [
    "temp = temp[temp['Price'].notna()]"
   ]
  },
  {
   "cell_type": "code",
   "execution_count": null,
   "id": "d573aa3a",
   "metadata": {},
   "outputs": [],
   "source": []
  },
  {
   "cell_type": "code",
   "execution_count": 512,
   "id": "0beadfea",
   "metadata": {},
   "outputs": [],
   "source": [
    "from sklearn.linear_model import LinearRegression"
   ]
  },
  {
   "cell_type": "code",
   "execution_count": 513,
   "id": "9714562d",
   "metadata": {},
   "outputs": [],
   "source": [
    "from sklearn.model_selection import train_test_split"
   ]
  },
  {
   "cell_type": "code",
   "execution_count": 514,
   "id": "b6a3d8d0",
   "metadata": {},
   "outputs": [],
   "source": [
    "from sklearn.preprocessing import StandardScaler"
   ]
  },
  {
   "cell_type": "code",
   "execution_count": 515,
   "id": "bd7981fe",
   "metadata": {},
   "outputs": [],
   "source": [
    "scaler= StandardScaler()"
   ]
  },
  {
   "cell_type": "code",
   "execution_count": 520,
   "id": "20872e3e",
   "metadata": {},
   "outputs": [],
   "source": [
    "final_contingency = temp"
   ]
  },
  {
   "cell_type": "code",
   "execution_count": 531,
   "id": "096e2a18",
   "metadata": {},
   "outputs": [],
   "source": [
    "X = temp.drop('Price',axis =1)\n",
    "y = temp['Price']"
   ]
  },
  {
   "cell_type": "code",
   "execution_count": 532,
   "id": "91292836",
   "metadata": {},
   "outputs": [],
   "source": [
    "X_train, X_test,y_train,y_test = train_test_split(X,y,test_size = 0.3)"
   ]
  },
  {
   "cell_type": "code",
   "execution_count": 525,
   "id": "4336943a",
   "metadata": {},
   "outputs": [],
   "source": [
    "model = LinearRegression()"
   ]
  },
  {
   "cell_type": "code",
   "execution_count": 533,
   "id": "97d6cf53",
   "metadata": {},
   "outputs": [
    {
     "data": {
      "text/plain": [
       "LinearRegression()"
      ]
     },
     "execution_count": 533,
     "metadata": {},
     "output_type": "execute_result"
    }
   ],
   "source": [
    "model.fit(X_train,y_train)"
   ]
  },
  {
   "cell_type": "code",
   "execution_count": 536,
   "id": "69647227",
   "metadata": {},
   "outputs": [],
   "source": [
    "y_pred = model.predict(X_test)"
   ]
  },
  {
   "cell_type": "code",
   "execution_count": 535,
   "id": "2931b23f",
   "metadata": {},
   "outputs": [
    {
     "data": {
      "text/plain": [
       "394     6240000.0\n",
       "1779    3250000.0\n",
       "2347    2496000.0\n",
       "3315    1352000.0\n",
       "3236    1785000.0\n",
       "          ...    \n",
       "2879    1575000.0\n",
       "3337    1470000.0\n",
       "2826    2600000.0\n",
       "3637    4200000.0\n",
       "658     3675000.0\n",
       "Name: Price, Length: 927, dtype: float64"
      ]
     },
     "execution_count": 535,
     "metadata": {},
     "output_type": "execute_result"
    }
   ],
   "source": [
    "y_test"
   ]
  },
  {
   "cell_type": "code",
   "execution_count": 553,
   "id": "5331ceae",
   "metadata": {},
   "outputs": [
    {
     "data": {
      "text/plain": [
       "0.6178637824417861"
      ]
     },
     "execution_count": 553,
     "metadata": {},
     "output_type": "execute_result"
    }
   ],
   "source": [
    "model.score(X_test,y_test)"
   ]
  },
  {
   "cell_type": "code",
   "execution_count": 550,
   "id": "7e89e95a",
   "metadata": {},
   "outputs": [],
   "source": [
    "y_pred = y_pred.reshape(-1,1)"
   ]
  },
  {
   "cell_type": "code",
   "execution_count": 545,
   "id": "9ccd8e87",
   "metadata": {},
   "outputs": [
    {
     "ename": "AttributeError",
     "evalue": "'Series' object has no attribute 'reshape'",
     "output_type": "error",
     "traceback": [
      "\u001b[1;31m---------------------------------------------------------------------------\u001b[0m",
      "\u001b[1;31mAttributeError\u001b[0m                            Traceback (most recent call last)",
      "Cell \u001b[1;32mIn[545], line 1\u001b[0m\n\u001b[1;32m----> 1\u001b[0m \u001b[43my_test\u001b[49m\u001b[38;5;241;43m.\u001b[39;49m\u001b[43mreshape\u001b[49m(\u001b[38;5;241m-\u001b[39m\u001b[38;5;241m1\u001b[39m,\u001b[38;5;241m1\u001b[39m)\n",
      "File \u001b[1;32m~\\anaconda3\\lib\\site-packages\\pandas\\core\\generic.py:5487\u001b[0m, in \u001b[0;36mNDFrame.__getattr__\u001b[1;34m(self, name)\u001b[0m\n\u001b[0;32m   5480\u001b[0m \u001b[38;5;28;01mif\u001b[39;00m (\n\u001b[0;32m   5481\u001b[0m     name \u001b[38;5;129;01mnot\u001b[39;00m \u001b[38;5;129;01min\u001b[39;00m \u001b[38;5;28mself\u001b[39m\u001b[38;5;241m.\u001b[39m_internal_names_set\n\u001b[0;32m   5482\u001b[0m     \u001b[38;5;129;01mand\u001b[39;00m name \u001b[38;5;129;01mnot\u001b[39;00m \u001b[38;5;129;01min\u001b[39;00m \u001b[38;5;28mself\u001b[39m\u001b[38;5;241m.\u001b[39m_metadata\n\u001b[0;32m   5483\u001b[0m     \u001b[38;5;129;01mand\u001b[39;00m name \u001b[38;5;129;01mnot\u001b[39;00m \u001b[38;5;129;01min\u001b[39;00m \u001b[38;5;28mself\u001b[39m\u001b[38;5;241m.\u001b[39m_accessors\n\u001b[0;32m   5484\u001b[0m     \u001b[38;5;129;01mand\u001b[39;00m \u001b[38;5;28mself\u001b[39m\u001b[38;5;241m.\u001b[39m_info_axis\u001b[38;5;241m.\u001b[39m_can_hold_identifiers_and_holds_name(name)\n\u001b[0;32m   5485\u001b[0m ):\n\u001b[0;32m   5486\u001b[0m     \u001b[38;5;28;01mreturn\u001b[39;00m \u001b[38;5;28mself\u001b[39m[name]\n\u001b[1;32m-> 5487\u001b[0m \u001b[38;5;28;01mreturn\u001b[39;00m \u001b[38;5;28;43mobject\u001b[39;49m\u001b[38;5;241;43m.\u001b[39;49m\u001b[38;5;21;43m__getattribute__\u001b[39;49m\u001b[43m(\u001b[49m\u001b[38;5;28;43mself\u001b[39;49m\u001b[43m,\u001b[49m\u001b[43m \u001b[49m\u001b[43mname\u001b[49m\u001b[43m)\u001b[49m\n",
      "\u001b[1;31mAttributeError\u001b[0m: 'Series' object has no attribute 'reshape'"
     ]
    }
   ],
   "source": []
  }
 ],
 "metadata": {
  "kernelspec": {
   "display_name": "Python 3 (ipykernel)",
   "language": "python",
   "name": "python3"
  },
  "language_info": {
   "codemirror_mode": {
    "name": "ipython",
    "version": 3
   },
   "file_extension": ".py",
   "mimetype": "text/x-python",
   "name": "python",
   "nbconvert_exporter": "python",
   "pygments_lexer": "ipython3",
   "version": "3.9.15"
  }
 },
 "nbformat": 4,
 "nbformat_minor": 5
}
