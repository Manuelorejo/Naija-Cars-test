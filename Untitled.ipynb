{
 "cells": [
  {
   "cell_type": "code",
   "execution_count": 455,
   "id": "49dbc6d1",
   "metadata": {},
   "outputs": [],
   "source": [
    "import pandas as pd\n",
    "import seaborn as sns\n",
    "import numpy as np\n",
    "import matplotlib.pyplot as plt\n",
    "import math\n",
    "%matplotlib inline"
   ]
  },
  {
   "cell_type": "code",
   "execution_count": 456,
   "id": "cb554034",
   "metadata": {},
   "outputs": [],
   "source": [
    "df = pd.read_csv('Nigerian_Car_Prices.csv')"
   ]
  },
  {
   "cell_type": "code",
   "execution_count": 554,
   "id": "f40bb5ea",
   "metadata": {},
   "outputs": [
    {
     "data": {
      "text/html": [
       "<div>\n",
       "<style scoped>\n",
       "    .dataframe tbody tr th:only-of-type {\n",
       "        vertical-align: middle;\n",
       "    }\n",
       "\n",
       "    .dataframe tbody tr th {\n",
       "        vertical-align: top;\n",
       "    }\n",
       "\n",
       "    .dataframe thead th {\n",
       "        text-align: right;\n",
       "    }\n",
       "</style>\n",
       "<table border=\"1\" class=\"dataframe\">\n",
       "  <thead>\n",
       "    <tr style=\"text-align: right;\">\n",
       "      <th></th>\n",
       "      <th>Make</th>\n",
       "      <th>Year of manufacture</th>\n",
       "      <th>Condition</th>\n",
       "      <th>Mileage</th>\n",
       "      <th>Engine Size</th>\n",
       "      <th>Fuel</th>\n",
       "      <th>Transmission</th>\n",
       "      <th>Price</th>\n",
       "      <th>Build</th>\n",
       "    </tr>\n",
       "  </thead>\n",
       "  <tbody>\n",
       "    <tr>\n",
       "      <th>0</th>\n",
       "      <td>Toyota</td>\n",
       "      <td>2007.0</td>\n",
       "      <td>Nigerian Used</td>\n",
       "      <td>166418.0</td>\n",
       "      <td>2400.0</td>\n",
       "      <td>Petrol</td>\n",
       "      <td>Automatic</td>\n",
       "      <td>3,120,000</td>\n",
       "      <td>NaN</td>\n",
       "    </tr>\n",
       "    <tr>\n",
       "      <th>1</th>\n",
       "      <td>Lexus</td>\n",
       "      <td>2007.0</td>\n",
       "      <td>NaN</td>\n",
       "      <td>138024.0</td>\n",
       "      <td>NaN</td>\n",
       "      <td>NaN</td>\n",
       "      <td>Automatic</td>\n",
       "      <td>5,834,000</td>\n",
       "      <td>NaN</td>\n",
       "    </tr>\n",
       "    <tr>\n",
       "      <th>2</th>\n",
       "      <td>Mercedes-Benz</td>\n",
       "      <td>2008.0</td>\n",
       "      <td>Nigerian Used</td>\n",
       "      <td>376807.0</td>\n",
       "      <td>3000.0</td>\n",
       "      <td>Petrol</td>\n",
       "      <td>Automatic</td>\n",
       "      <td>3,640,000</td>\n",
       "      <td>NaN</td>\n",
       "    </tr>\n",
       "    <tr>\n",
       "      <th>3</th>\n",
       "      <td>Lexus</td>\n",
       "      <td>2007.0</td>\n",
       "      <td>NaN</td>\n",
       "      <td>213362.0</td>\n",
       "      <td>NaN</td>\n",
       "      <td>NaN</td>\n",
       "      <td>Automatic</td>\n",
       "      <td>3,594,000</td>\n",
       "      <td>NaN</td>\n",
       "    </tr>\n",
       "    <tr>\n",
       "      <th>4</th>\n",
       "      <td>Mercedes-Benz</td>\n",
       "      <td>2007.0</td>\n",
       "      <td>NaN</td>\n",
       "      <td>106199.0</td>\n",
       "      <td>NaN</td>\n",
       "      <td>NaN</td>\n",
       "      <td>Automatic</td>\n",
       "      <td>8,410,000</td>\n",
       "      <td>NaN</td>\n",
       "    </tr>\n",
       "  </tbody>\n",
       "</table>\n",
       "</div>"
      ],
      "text/plain": [
       "            Make  Year of manufacture      Condition   Mileage  Engine Size  \\\n",
       "0         Toyota               2007.0  Nigerian Used  166418.0       2400.0   \n",
       "1          Lexus               2007.0            NaN  138024.0          NaN   \n",
       "2  Mercedes-Benz               2008.0  Nigerian Used  376807.0       3000.0   \n",
       "3          Lexus               2007.0            NaN  213362.0          NaN   \n",
       "4  Mercedes-Benz               2007.0            NaN  106199.0          NaN   \n",
       "\n",
       "     Fuel Transmission      Price Build  \n",
       "0  Petrol    Automatic  3,120,000   NaN  \n",
       "1     NaN    Automatic  5,834,000   NaN  \n",
       "2  Petrol    Automatic  3,640,000   NaN  \n",
       "3     NaN    Automatic  3,594,000   NaN  \n",
       "4     NaN    Automatic  8,410,000   NaN  "
      ]
     },
     "execution_count": 554,
     "metadata": {},
     "output_type": "execute_result"
    }
   ],
   "source": [
    "df.head()"
   ]
  },
  {
   "cell_type": "code",
   "execution_count": 458,
   "id": "54d3e038",
   "metadata": {},
   "outputs": [
    {
     "name": "stdout",
     "output_type": "stream",
     "text": [
      "<class 'pandas.core.frame.DataFrame'>\n",
      "RangeIndex: 4095 entries, 0 to 4094\n",
      "Data columns (total 10 columns):\n",
      " #   Column               Non-Null Count  Dtype  \n",
      "---  ------               --------------  -----  \n",
      " 0   Unnamed: 0           4095 non-null   int64  \n",
      " 1   Make                 4095 non-null   object \n",
      " 2   Year of manufacture  3617 non-null   float64\n",
      " 3   Condition            3616 non-null   object \n",
      " 4   Mileage              4024 non-null   float64\n",
      " 5   Engine Size          3584 non-null   float64\n",
      " 6   Fuel                 3607 non-null   object \n",
      " 7   Transmission         4075 non-null   object \n",
      " 8   Price                4095 non-null   object \n",
      " 9   Build                1127 non-null   object \n",
      "dtypes: float64(3), int64(1), object(6)\n",
      "memory usage: 320.0+ KB\n"
     ]
    }
   ],
   "source": [
    "df.info()"
   ]
  },
  {
   "cell_type": "code",
   "execution_count": 459,
   "id": "e0077716",
   "metadata": {},
   "outputs": [],
   "source": [
    "df.drop('Unnamed: 0',axis = 1, inplace = True)"
   ]
  },
  {
   "cell_type": "code",
   "execution_count": 460,
   "id": "92e2cddf",
   "metadata": {},
   "outputs": [
    {
     "data": {
      "text/plain": [
       "array([2007.,   nan, 2008., 2011., 2014., 2016., 2009., 2017., 2010.,\n",
       "       2015., 2006., 2013., 2000., 2012., 2004., 2018., 2005., 2002.,\n",
       "       2001., 2019., 2003., 2020., 2021., 1998., 1996., 1999., 1997.,\n",
       "       1995., 1992., 1994.])"
      ]
     },
     "execution_count": 460,
     "metadata": {},
     "output_type": "execute_result"
    }
   ],
   "source": [
    "df['Year of manufacture'].unique()"
   ]
  },
  {
   "cell_type": "code",
   "execution_count": 461,
   "id": "0377f53d",
   "metadata": {},
   "outputs": [
    {
     "data": {
      "text/plain": [
       "<seaborn.axisgrid.FacetGrid at 0x18dd063b6d0>"
      ]
     },
     "execution_count": 461,
     "metadata": {},
     "output_type": "execute_result"
    },
    {
     "data": {
      "image/png": "[encoded data removed]",
      "text/plain": [
       "<Figure size 500x500 with 1 Axes>"
      ]
     },
     "metadata": {},
     "output_type": "display_data"
    }
   ],
   "source": [
    "sns.displot(df['Year of manufacture'])"
   ]
  },
  {
   "cell_type": "code",
   "execution_count": 462,
   "id": "addccd0e",
   "metadata": {},
   "outputs": [
    {
     "data": {
      "text/plain": [
       "2007.898534697263"
      ]
     },
     "execution_count": 462,
     "metadata": {},
     "output_type": "execute_result"
    }
   ],
   "source": [
    "df['Year of manufacture'].mean()"
   ]
  },
  {
   "cell_type": "code",
   "execution_count": 463,
   "id": "8180280a",
   "metadata": {},
   "outputs": [],
   "source": [
    "df['Year of manufacture'].fillna(value = 2007.0, inplace = True)"
   ]
  },
  {
   "cell_type": "code",
   "execution_count": 464,
   "id": "501901c7",
   "metadata": {},
   "outputs": [
    {
     "data": {
      "text/plain": [
       "81"
      ]
     },
     "execution_count": 464,
     "metadata": {},
     "output_type": "execute_result"
    }
   ],
   "source": [
    "df['Engine Size'].nunique()"
   ]
  },
  {
   "cell_type": "code",
   "execution_count": 465,
   "id": "144d6ae3",
   "metadata": {},
   "outputs": [
    {
     "data": {
      "text/plain": [
       "3274.9765625"
      ]
     },
     "execution_count": 465,
     "metadata": {},
     "output_type": "execute_result"
    }
   ],
   "source": [
    "df['Engine Size'].mean()"
   ]
  },
  {
   "cell_type": "code",
   "execution_count": 466,
   "id": "aaa0c44c",
   "metadata": {},
   "outputs": [
    {
     "data": {
      "text/plain": [
       "Engine Size\n",
       "3500.0     820\n",
       "2400.0     520\n",
       "1800.0     437\n",
       "3000.0     306\n",
       "2500.0     256\n",
       "2000.0     235\n",
       "3300.0     144\n",
       "1600.0      92\n",
       "4700.0      65\n",
       "2700.0      57\n",
       "4000.0      54\n",
       "4600.0      37\n",
       "2200.0      37\n",
       "35.0        34\n",
       "3700.0      34\n",
       "3600.0      32\n",
       "1500.0      30\n",
       "1400.0      30\n",
       "2300.0      29\n",
       "3200.0      24\n",
       "5000.0      22\n",
       "35000.0     20\n",
       "4400.0      18\n",
       "5600.0      18\n",
       "3400.0      17\n",
       "1100.0      13\n",
       "3800.0      13\n",
       "4500.0      12\n",
       "5700.0      12\n",
       "24.0        11\n",
       "30.0        11\n",
       "5500.0       9\n",
       "1300.0       8\n",
       "2600.0       8\n",
       "5400.0       7\n",
       "4800.0       7\n",
       "4200.0       6\n",
       "2100.0       5\n",
       "1200.0       5\n",
       "18.0         5\n",
       "Name: Make, dtype: int64"
      ]
     },
     "execution_count": 466,
     "metadata": {},
     "output_type": "execute_result"
    }
   ],
   "source": [
    "df.groupby('Engine Size').count()['Make'].sort_values(ascending = False).head(40)"
   ]
  },
  {
   "cell_type": "code",
   "execution_count": 467,
   "id": "49b3eae5",
   "metadata": {},
   "outputs": [
    {
     "data": {
      "text/plain": [
       "Engine Size\n",
       "371000.0    1\n",
       "4100.0      1\n",
       "400.0       1\n",
       "300.0       1\n",
       "4300.0      1\n",
       "4900.0      1\n",
       "5300.0      1\n",
       "40.0        1\n",
       "36.0        1\n",
       "184421.0    1\n",
       "22000.0     1\n",
       "33000.0     1\n",
       "40000.0     1\n",
       "42000.0     1\n",
       "45000.0     1\n",
       "47000.0     1\n",
       "56000.0     1\n",
       "14.0        1\n",
       "23000.0     1\n",
       "1330.0      1\n",
       "6000.0      2\n",
       "50000.0     2\n",
       "3.0         2\n",
       "16.0        2\n",
       "47.0        2\n",
       "45.0        2\n",
       "22.0        2\n",
       "33.0        2\n",
       "57.0        2\n",
       "200.0       3\n",
       "16000.0     3\n",
       "1000.0      3\n",
       "25.0        3\n",
       "1900.0      4\n",
       "20000.0     4\n",
       "1700.0      4\n",
       "20.0        4\n",
       "2800.0      4\n",
       "24000.0     4\n",
       "18000.0     5\n",
       "Name: Make, dtype: int64"
      ]
     },
     "execution_count": 467,
     "metadata": {},
     "output_type": "execute_result"
    }
   ],
   "source": [
    "df.groupby('Engine Size').count()['Make'].sort_values(ascending = True).head(40)"
   ]
  },
  {
   "cell_type": "code",
   "execution_count": null,
   "id": "1bccdfad",
   "metadata": {},
   "outputs": [],
   "source": [
    "temp = temp[temp['Engine Size'].notna()]"
   ]
  },
  {
   "cell_type": "code",
   "execution_count": 565,
   "id": "c9bf5cc1",
   "metadata": {},
   "outputs": [],
   "source": [
    "least = df['Make'].value_counts().tail(29)"
   ]
  },
  {
   "cell_type": "code",
   "execution_count": 576,
   "id": "1e11633e",
   "metadata": {},
   "outputs": [],
   "source": [
    "least_list = list(least.index)"
   ]
  },
  {
   "cell_type": "code",
   "execution_count": 578,
   "id": "01eea6ff",
   "metadata": {},
   "outputs": [],
   "source": [
    "def weed_make(least,make,col):\n",
    "    for i in range(len(col)):\n",
    "        if make in least:\n",
    "            make = None\n",
    "            return make\n",
    "        else:\n",
    "            return make"
   ]
  },
  {
   "cell_type": "code",
   "execution_count": 586,
   "id": "ae11fa21",
   "metadata": {},
   "outputs": [],
   "source": [
    "df['Make'] = df['Make'].apply(lambda x: weed_make(least_list,x,df['Make']))"
   ]
  },
  {
   "cell_type": "code",
   "execution_count": 590,
   "id": "03ecf322",
   "metadata": {},
   "outputs": [],
   "source": [
    "df = df[df['Make'].notna()]"
   ]
  },
  {
   "cell_type": "code",
   "execution_count": 676,
   "id": "78160797",
   "metadata": {},
   "outputs": [
    {
     "data": {
      "text/plain": [
       "20"
      ]
     },
     "execution_count": 676,
     "metadata": {},
     "output_type": "execute_result"
    }
   ],
   "source": [
    "df['Make'].nunique()"
   ]
  },
  {
   "cell_type": "code",
   "execution_count": 591,
   "id": "f6ef8f13",
   "metadata": {},
   "outputs": [],
   "source": [
    "temp = df"
   ]
  },
  {
   "cell_type": "code",
   "execution_count": 592,
   "id": "e12e20d9",
   "metadata": {},
   "outputs": [],
   "source": [
    "def weed(df_col, Col):\n",
    "    for i in range(len(df_col)):\n",
    "        if 1000 <= Col <= 10000:\n",
    "            return Col\n",
    "            \n",
    "        \n",
    "        else:\n",
    "            Col = None\n",
    "            return Col"
   ]
  },
  {
   "cell_type": "code",
   "execution_count": 593,
   "id": "bf8e5e90",
   "metadata": {},
   "outputs": [
    {
     "name": "stderr",
     "output_type": "stream",
     "text": [
      "C:\\Users\\Oreoluwa\\AppData\\Local\\Temp\\ipykernel_15120\\3611193797.py:1: SettingWithCopyWarning: \n",
      "A value is trying to be set on a copy of a slice from a DataFrame.\n",
      "Try using .loc[row_indexer,col_indexer] = value instead\n",
      "\n",
      "See the caveats in the documentation: https://pandas.pydata.org/pandas-docs/stable/user_guide/indexing.html#returning-a-view-versus-a-copy\n",
      "  temp['Engine Size'] = temp['Engine Size'].apply(lambda x: weed(df['Engine Size'],x))\n"
     ]
    }
   ],
   "source": [
    "temp['Engine Size'] = temp['Engine Size'].apply(lambda x: weed(df['Engine Size'],x))"
   ]
  },
  {
   "cell_type": "code",
   "execution_count": 594,
   "id": "d111d5aa",
   "metadata": {},
   "outputs": [
    {
     "data": {
      "text/plain": [
       "3500.0    815\n",
       "2400.0    514\n",
       "1800.0    426\n",
       "3000.0    301\n",
       "2500.0    256\n",
       "2000.0    222\n",
       "3300.0    141\n",
       "1600.0     85\n",
       "4700.0     65\n",
       "2700.0     56\n",
       "4000.0     52\n",
       "4600.0     37\n",
       "2200.0     36\n",
       "3700.0     30\n",
       "1500.0     29\n",
       "2300.0     29\n",
       "1400.0     25\n",
       "5000.0     22\n",
       "3200.0     20\n",
       "3600.0     20\n",
       "4400.0     18\n",
       "5600.0     18\n",
       "3400.0     17\n",
       "3800.0     13\n",
       "1100.0     13\n",
       "4500.0     10\n",
       "5500.0      8\n",
       "2600.0      8\n",
       "5700.0      8\n",
       "1300.0      8\n",
       "5400.0      7\n",
       "4800.0      6\n",
       "2900.0      5\n",
       "4200.0      5\n",
       "2100.0      5\n",
       "2800.0      4\n",
       "1200.0      4\n",
       "1700.0      4\n",
       "1000.0      3\n",
       "1900.0      2\n",
       "4900.0      1\n",
       "1330.0      1\n",
       "5300.0      1\n",
       "4300.0      1\n",
       "Name: Engine Size, dtype: int64"
      ]
     },
     "execution_count": 594,
     "metadata": {},
     "output_type": "execute_result"
    }
   ],
   "source": [
    "temp['Engine Size'].value_counts()"
   ]
  },
  {
   "cell_type": "code",
   "execution_count": 595,
   "id": "7bcb6aaf",
   "metadata": {},
   "outputs": [],
   "source": [
    "temp = temp[temp['Engine Size'].notna()]"
   ]
  },
  {
   "cell_type": "code",
   "execution_count": 596,
   "id": "7ae55c15",
   "metadata": {},
   "outputs": [
    {
     "data": {
      "text/plain": [
       "Nigerian Used    2343\n",
       "Foreign Used     1004\n",
       "Brand New           3\n",
       "Name: Condition, dtype: int64"
      ]
     },
     "execution_count": 596,
     "metadata": {},
     "output_type": "execute_result"
    }
   ],
   "source": [
    "temp['Condition'].value_counts()"
   ]
  },
  {
   "cell_type": "code",
   "execution_count": 597,
   "id": "d317d735",
   "metadata": {},
   "outputs": [
    {
     "name": "stdout",
     "output_type": "stream",
     "text": [
      "<class 'pandas.core.frame.DataFrame'>\n",
      "Int64Index: 3351 entries, 0 to 4094\n",
      "Data columns (total 10 columns):\n",
      " #   Column               Non-Null Count  Dtype  \n",
      "---  ------               --------------  -----  \n",
      " 0   Make                 3351 non-null   object \n",
      " 1   Year of manufacture  3351 non-null   float64\n",
      " 2   Condition            3350 non-null   object \n",
      " 3   Mileage              3302 non-null   float64\n",
      " 4   Engine Size          3351 non-null   float64\n",
      " 5   Fuel                 3345 non-null   object \n",
      " 6   Transmission         3346 non-null   object \n",
      " 7   Price                3351 non-null   object \n",
      " 8   Build                1044 non-null   object \n",
      " 9   New_Make             3351 non-null   object \n",
      "dtypes: float64(3), object(7)\n",
      "memory usage: 288.0+ KB\n"
     ]
    }
   ],
   "source": [
    "temp.info()"
   ]
  },
  {
   "cell_type": "code",
   "execution_count": 598,
   "id": "cc7844e1",
   "metadata": {},
   "outputs": [],
   "source": [
    "Mile_mean = temp['Mileage'].mean()"
   ]
  },
  {
   "cell_type": "code",
   "execution_count": 599,
   "id": "01174f6d",
   "metadata": {},
   "outputs": [
    {
     "name": "stderr",
     "output_type": "stream",
     "text": [
      "C:\\Users\\Oreoluwa\\anaconda3\\lib\\site-packages\\pandas\\core\\generic.py:6392: SettingWithCopyWarning: \n",
      "A value is trying to be set on a copy of a slice from a DataFrame\n",
      "\n",
      "See the caveats in the documentation: https://pandas.pydata.org/pandas-docs/stable/user_guide/indexing.html#returning-a-view-versus-a-copy\n",
      "  return self._update_inplace(result)\n"
     ]
    }
   ],
   "source": [
    "temp['Mileage'].fillna(value = Mile_mean, inplace = True)"
   ]
  },
  {
   "cell_type": "code",
   "execution_count": 600,
   "id": "2fbbf89a",
   "metadata": {},
   "outputs": [],
   "source": [
    "temp['Condition'].fillna('Nigerian Used', inplace = True)"
   ]
  },
  {
   "cell_type": "code",
   "execution_count": 601,
   "id": "05afe757",
   "metadata": {},
   "outputs": [
    {
     "data": {
      "text/plain": [
       "array(['Petrol', 'Diesel', 'Hybrid', nan, 'Electric'], dtype=object)"
      ]
     },
     "execution_count": 601,
     "metadata": {},
     "output_type": "execute_result"
    }
   ],
   "source": [
    "temp['Fuel'].unique()"
   ]
  },
  {
   "cell_type": "code",
   "execution_count": null,
   "id": "29c8f3ab",
   "metadata": {},
   "outputs": [],
   "source": []
  },
  {
   "cell_type": "code",
   "execution_count": 602,
   "id": "64282512",
   "metadata": {},
   "outputs": [
    {
     "data": {
      "text/html": [
       "<div>\n",
       "<style scoped>\n",
       "    .dataframe tbody tr th:only-of-type {\n",
       "        vertical-align: middle;\n",
       "    }\n",
       "\n",
       "    .dataframe tbody tr th {\n",
       "        vertical-align: top;\n",
       "    }\n",
       "\n",
       "    .dataframe thead th {\n",
       "        text-align: right;\n",
       "    }\n",
       "</style>\n",
       "<table border=\"1\" class=\"dataframe\">\n",
       "  <thead>\n",
       "    <tr style=\"text-align: right;\">\n",
       "      <th></th>\n",
       "      <th>Make</th>\n",
       "      <th>Year of manufacture</th>\n",
       "      <th>Condition</th>\n",
       "      <th>Mileage</th>\n",
       "      <th>Engine Size</th>\n",
       "      <th>Fuel</th>\n",
       "      <th>Transmission</th>\n",
       "      <th>Price</th>\n",
       "      <th>Build</th>\n",
       "      <th>New_Make</th>\n",
       "    </tr>\n",
       "  </thead>\n",
       "  <tbody>\n",
       "    <tr>\n",
       "      <th>569</th>\n",
       "      <td>Toyota</td>\n",
       "      <td>2008.0</td>\n",
       "      <td>Nigerian Used</td>\n",
       "      <td>154929.0</td>\n",
       "      <td>3000.0</td>\n",
       "      <td>NaN</td>\n",
       "      <td>Manual</td>\n",
       "      <td>5,200,000</td>\n",
       "      <td>NaN</td>\n",
       "      <td>Toyota</td>\n",
       "    </tr>\n",
       "    <tr>\n",
       "      <th>1505</th>\n",
       "      <td>Toyota</td>\n",
       "      <td>2003.0</td>\n",
       "      <td>Nigerian Used</td>\n",
       "      <td>275575.0</td>\n",
       "      <td>3500.0</td>\n",
       "      <td>NaN</td>\n",
       "      <td>Automatic</td>\n",
       "      <td>2,704,000</td>\n",
       "      <td>SUV</td>\n",
       "      <td>Toyota</td>\n",
       "    </tr>\n",
       "    <tr>\n",
       "      <th>1547</th>\n",
       "      <td>Toyota</td>\n",
       "      <td>2003.0</td>\n",
       "      <td>Nigerian Used</td>\n",
       "      <td>275575.0</td>\n",
       "      <td>3500.0</td>\n",
       "      <td>NaN</td>\n",
       "      <td>Automatic</td>\n",
       "      <td>2,704,000</td>\n",
       "      <td>SUV</td>\n",
       "      <td>Toyota</td>\n",
       "    </tr>\n",
       "    <tr>\n",
       "      <th>3682</th>\n",
       "      <td>Honda</td>\n",
       "      <td>2005.0</td>\n",
       "      <td>Foreign Used</td>\n",
       "      <td>108714.0</td>\n",
       "      <td>2500.0</td>\n",
       "      <td>NaN</td>\n",
       "      <td>Automatic</td>\n",
       "      <td>2,600,000</td>\n",
       "      <td>NaN</td>\n",
       "      <td>Honda</td>\n",
       "    </tr>\n",
       "    <tr>\n",
       "      <th>3703</th>\n",
       "      <td>Honda</td>\n",
       "      <td>2005.0</td>\n",
       "      <td>Foreign Used</td>\n",
       "      <td>108714.0</td>\n",
       "      <td>2500.0</td>\n",
       "      <td>NaN</td>\n",
       "      <td>Automatic</td>\n",
       "      <td>2,600,000</td>\n",
       "      <td>NaN</td>\n",
       "      <td>Honda</td>\n",
       "    </tr>\n",
       "    <tr>\n",
       "      <th>3729</th>\n",
       "      <td>Chevrolet</td>\n",
       "      <td>2010.0</td>\n",
       "      <td>Nigerian Used</td>\n",
       "      <td>1800.0</td>\n",
       "      <td>1800.0</td>\n",
       "      <td>NaN</td>\n",
       "      <td>Manual</td>\n",
       "      <td>840,000</td>\n",
       "      <td>NaN</td>\n",
       "      <td>Chevrolet</td>\n",
       "    </tr>\n",
       "  </tbody>\n",
       "</table>\n",
       "</div>"
      ],
      "text/plain": [
       "           Make  Year of manufacture      Condition   Mileage  Engine Size  \\\n",
       "569      Toyota               2008.0  Nigerian Used  154929.0       3000.0   \n",
       "1505     Toyota               2003.0  Nigerian Used  275575.0       3500.0   \n",
       "1547     Toyota               2003.0  Nigerian Used  275575.0       3500.0   \n",
       "3682      Honda               2005.0   Foreign Used  108714.0       2500.0   \n",
       "3703      Honda               2005.0   Foreign Used  108714.0       2500.0   \n",
       "3729  Chevrolet               2010.0  Nigerian Used    1800.0       1800.0   \n",
       "\n",
       "     Fuel Transmission      Price Build   New_Make  \n",
       "569   NaN       Manual  5,200,000   NaN     Toyota  \n",
       "1505  NaN    Automatic  2,704,000   SUV     Toyota  \n",
       "1547  NaN    Automatic  2,704,000   SUV     Toyota  \n",
       "3682  NaN    Automatic  2,600,000   NaN      Honda  \n",
       "3703  NaN    Automatic  2,600,000   NaN      Honda  \n",
       "3729  NaN       Manual    840,000   NaN  Chevrolet  "
      ]
     },
     "execution_count": 602,
     "metadata": {},
     "output_type": "execute_result"
    }
   ],
   "source": [
    "temp[temp['Fuel'].notna() == False]"
   ]
  },
  {
   "cell_type": "code",
   "execution_count": 603,
   "id": "faabd924",
   "metadata": {},
   "outputs": [
    {
     "data": {
      "text/plain": [
       "Petrol    1320\n",
       "Hybrid      18\n",
       "Diesel       5\n",
       "Name: Fuel, dtype: int64"
      ]
     },
     "execution_count": 603,
     "metadata": {},
     "output_type": "execute_result"
    }
   ],
   "source": [
    "temp[temp['Make'] == 'Toyota']['Fuel'].value_counts()"
   ]
  },
  {
   "cell_type": "code",
   "execution_count": 604,
   "id": "2442f24d",
   "metadata": {},
   "outputs": [
    {
     "data": {
      "text/plain": [
       "Petrol    359\n",
       "Hybrid      2\n",
       "Name: Fuel, dtype: int64"
      ]
     },
     "execution_count": 604,
     "metadata": {},
     "output_type": "execute_result"
    }
   ],
   "source": [
    "temp[temp['Make'] == 'Honda']['Fuel'].value_counts()"
   ]
  },
  {
   "cell_type": "code",
   "execution_count": 605,
   "id": "87f942b7",
   "metadata": {},
   "outputs": [
    {
     "data": {
      "text/plain": [
       "Petrol    25\n",
       "Hybrid     1\n",
       "Name: Fuel, dtype: int64"
      ]
     },
     "execution_count": 605,
     "metadata": {},
     "output_type": "execute_result"
    }
   ],
   "source": [
    "temp[temp['Make'] == 'Chevrolet']['Fuel'].value_counts()"
   ]
  },
  {
   "cell_type": "code",
   "execution_count": 606,
   "id": "e49a160f",
   "metadata": {},
   "outputs": [
    {
     "name": "stderr",
     "output_type": "stream",
     "text": [
      "C:\\Users\\Oreoluwa\\anaconda3\\lib\\site-packages\\pandas\\core\\generic.py:6392: SettingWithCopyWarning: \n",
      "A value is trying to be set on a copy of a slice from a DataFrame\n",
      "\n",
      "See the caveats in the documentation: https://pandas.pydata.org/pandas-docs/stable/user_guide/indexing.html#returning-a-view-versus-a-copy\n",
      "  return self._update_inplace(result)\n"
     ]
    }
   ],
   "source": [
    "temp['Fuel'].fillna(value = 'Petrol', inplace = True)"
   ]
  },
  {
   "cell_type": "code",
   "execution_count": 607,
   "id": "c1d9336b",
   "metadata": {},
   "outputs": [
    {
     "data": {
      "text/html": [
       "<div>\n",
       "<style scoped>\n",
       "    .dataframe tbody tr th:only-of-type {\n",
       "        vertical-align: middle;\n",
       "    }\n",
       "\n",
       "    .dataframe tbody tr th {\n",
       "        vertical-align: top;\n",
       "    }\n",
       "\n",
       "    .dataframe thead th {\n",
       "        text-align: right;\n",
       "    }\n",
       "</style>\n",
       "<table border=\"1\" class=\"dataframe\">\n",
       "  <thead>\n",
       "    <tr style=\"text-align: right;\">\n",
       "      <th></th>\n",
       "      <th>Make</th>\n",
       "      <th>Year of manufacture</th>\n",
       "      <th>Condition</th>\n",
       "      <th>Mileage</th>\n",
       "      <th>Engine Size</th>\n",
       "      <th>Fuel</th>\n",
       "      <th>Transmission</th>\n",
       "      <th>Price</th>\n",
       "      <th>Build</th>\n",
       "      <th>New_Make</th>\n",
       "    </tr>\n",
       "  </thead>\n",
       "  <tbody>\n",
       "    <tr>\n",
       "      <th>2341</th>\n",
       "      <td>Mercedes-Benz</td>\n",
       "      <td>2007.0</td>\n",
       "      <td>Nigerian Used</td>\n",
       "      <td>190697.664143</td>\n",
       "      <td>3500.0</td>\n",
       "      <td>Petrol</td>\n",
       "      <td>NaN</td>\n",
       "      <td>2,625,000</td>\n",
       "      <td>SUV</td>\n",
       "      <td>Mercedes-Benz</td>\n",
       "    </tr>\n",
       "    <tr>\n",
       "      <th>2374</th>\n",
       "      <td>Honda</td>\n",
       "      <td>2009.0</td>\n",
       "      <td>Nigerian Used</td>\n",
       "      <td>125806.000000</td>\n",
       "      <td>2500.0</td>\n",
       "      <td>Petrol</td>\n",
       "      <td>NaN</td>\n",
       "      <td>1,785,000</td>\n",
       "      <td>NaN</td>\n",
       "      <td>Honda</td>\n",
       "    </tr>\n",
       "    <tr>\n",
       "      <th>2413</th>\n",
       "      <td>Mercedes-Benz</td>\n",
       "      <td>2007.0</td>\n",
       "      <td>Nigerian Used</td>\n",
       "      <td>190697.664143</td>\n",
       "      <td>3500.0</td>\n",
       "      <td>Petrol</td>\n",
       "      <td>NaN</td>\n",
       "      <td>2,625,000</td>\n",
       "      <td>SUV</td>\n",
       "      <td>Mercedes-Benz</td>\n",
       "    </tr>\n",
       "    <tr>\n",
       "      <th>2549</th>\n",
       "      <td>Honda</td>\n",
       "      <td>2009.0</td>\n",
       "      <td>Nigerian Used</td>\n",
       "      <td>125806.000000</td>\n",
       "      <td>2500.0</td>\n",
       "      <td>Petrol</td>\n",
       "      <td>NaN</td>\n",
       "      <td>1,785,000</td>\n",
       "      <td>NaN</td>\n",
       "      <td>Honda</td>\n",
       "    </tr>\n",
       "    <tr>\n",
       "      <th>3559</th>\n",
       "      <td>Toyota</td>\n",
       "      <td>2004.0</td>\n",
       "      <td>Nigerian Used</td>\n",
       "      <td>190697.664143</td>\n",
       "      <td>1400.0</td>\n",
       "      <td>Diesel</td>\n",
       "      <td>NaN</td>\n",
       "      <td>1,260,000</td>\n",
       "      <td>NaN</td>\n",
       "      <td>Toyota</td>\n",
       "    </tr>\n",
       "  </tbody>\n",
       "</table>\n",
       "</div>"
      ],
      "text/plain": [
       "               Make  Year of manufacture      Condition        Mileage  \\\n",
       "2341  Mercedes-Benz               2007.0  Nigerian Used  190697.664143   \n",
       "2374          Honda               2009.0  Nigerian Used  125806.000000   \n",
       "2413  Mercedes-Benz               2007.0  Nigerian Used  190697.664143   \n",
       "2549          Honda               2009.0  Nigerian Used  125806.000000   \n",
       "3559         Toyota               2004.0  Nigerian Used  190697.664143   \n",
       "\n",
       "      Engine Size    Fuel Transmission      Price Build       New_Make  \n",
       "2341       3500.0  Petrol          NaN  2,625,000   SUV  Mercedes-Benz  \n",
       "2374       2500.0  Petrol          NaN  1,785,000   NaN          Honda  \n",
       "2413       3500.0  Petrol          NaN  2,625,000   SUV  Mercedes-Benz  \n",
       "2549       2500.0  Petrol          NaN  1,785,000   NaN          Honda  \n",
       "3559       1400.0  Diesel          NaN  1,260,000   NaN         Toyota  "
      ]
     },
     "execution_count": 607,
     "metadata": {},
     "output_type": "execute_result"
    }
   ],
   "source": [
    "temp[temp['Transmission'].notna() == False]"
   ]
  },
  {
   "cell_type": "code",
   "execution_count": 608,
   "id": "ec7bd23c",
   "metadata": {},
   "outputs": [
    {
     "data": {
      "text/plain": [
       "Automatic    301\n",
       "Manual         7\n",
       "Name: Transmission, dtype: int64"
      ]
     },
     "execution_count": 608,
     "metadata": {},
     "output_type": "execute_result"
    }
   ],
   "source": [
    "temp[temp['Make'] == 'Mercedes-Benz']['Transmission'].value_counts()"
   ]
  },
  {
   "cell_type": "code",
   "execution_count": 609,
   "id": "c8035ce8",
   "metadata": {},
   "outputs": [
    {
     "data": {
      "text/plain": [
       "Automatic    348\n",
       "Manual         8\n",
       "AMT            3\n",
       "CVT            2\n",
       "Name: Transmission, dtype: int64"
      ]
     },
     "execution_count": 609,
     "metadata": {},
     "output_type": "execute_result"
    }
   ],
   "source": [
    "temp[temp['Make'] == 'Honda']['Transmission'].value_counts()"
   ]
  },
  {
   "cell_type": "code",
   "execution_count": 610,
   "id": "20c675c3",
   "metadata": {},
   "outputs": [
    {
     "data": {
      "text/plain": [
       "Automatic    1289\n",
       "Manual         47\n",
       "AMT             5\n",
       "CVT             4\n",
       "Name: Transmission, dtype: int64"
      ]
     },
     "execution_count": 610,
     "metadata": {},
     "output_type": "execute_result"
    }
   ],
   "source": [
    "temp[temp['Make'] == 'Toyota']['Transmission'].value_counts()"
   ]
  },
  {
   "cell_type": "code",
   "execution_count": 611,
   "id": "f49a4326",
   "metadata": {},
   "outputs": [
    {
     "name": "stderr",
     "output_type": "stream",
     "text": [
      "C:\\Users\\Oreoluwa\\anaconda3\\lib\\site-packages\\pandas\\core\\generic.py:6392: SettingWithCopyWarning: \n",
      "A value is trying to be set on a copy of a slice from a DataFrame\n",
      "\n",
      "See the caveats in the documentation: https://pandas.pydata.org/pandas-docs/stable/user_guide/indexing.html#returning-a-view-versus-a-copy\n",
      "  return self._update_inplace(result)\n"
     ]
    }
   ],
   "source": [
    "temp['Transmission'].fillna(value = 'Automatic', inplace = True)"
   ]
  },
  {
   "cell_type": "code",
   "execution_count": 612,
   "id": "129313a4",
   "metadata": {},
   "outputs": [
    {
     "data": {
      "text/plain": [
       "SUV    1044\n",
       "Name: Build, dtype: int64"
      ]
     },
     "execution_count": 612,
     "metadata": {},
     "output_type": "execute_result"
    }
   ],
   "source": [
    "temp['Build'].value_counts()"
   ]
  },
  {
   "cell_type": "code",
   "execution_count": 613,
   "id": "4c196591",
   "metadata": {},
   "outputs": [
    {
     "data": {
      "text/plain": [
       "array([nan, 'SUV'], dtype=object)"
      ]
     },
     "execution_count": 613,
     "metadata": {},
     "output_type": "execute_result"
    }
   ],
   "source": [
    "temp['Build'].unique()"
   ]
  },
  {
   "cell_type": "code",
   "execution_count": 614,
   "id": "7013acdb",
   "metadata": {},
   "outputs": [
    {
     "name": "stderr",
     "output_type": "stream",
     "text": [
      "C:\\Users\\Oreoluwa\\anaconda3\\lib\\site-packages\\pandas\\core\\frame.py:4906: SettingWithCopyWarning: \n",
      "A value is trying to be set on a copy of a slice from a DataFrame\n",
      "\n",
      "See the caveats in the documentation: https://pandas.pydata.org/pandas-docs/stable/user_guide/indexing.html#returning-a-view-versus-a-copy\n",
      "  return super().drop(\n"
     ]
    }
   ],
   "source": [
    "temp.drop('Build', axis = 1, inplace = True)"
   ]
  },
  {
   "cell_type": "code",
   "execution_count": 615,
   "id": "e31223a3",
   "metadata": {},
   "outputs": [
    {
     "name": "stdout",
     "output_type": "stream",
     "text": [
      "<class 'pandas.core.frame.DataFrame'>\n",
      "Int64Index: 3351 entries, 0 to 4094\n",
      "Data columns (total 9 columns):\n",
      " #   Column               Non-Null Count  Dtype  \n",
      "---  ------               --------------  -----  \n",
      " 0   Make                 3351 non-null   object \n",
      " 1   Year of manufacture  3351 non-null   float64\n",
      " 2   Condition            3351 non-null   object \n",
      " 3   Mileage              3351 non-null   float64\n",
      " 4   Engine Size          3351 non-null   float64\n",
      " 5   Fuel                 3351 non-null   object \n",
      " 6   Transmission         3351 non-null   object \n",
      " 7   Price                3351 non-null   object \n",
      " 8   New_Make             3351 non-null   object \n",
      "dtypes: float64(3), object(6)\n",
      "memory usage: 261.8+ KB\n"
     ]
    }
   ],
   "source": [
    "temp.info()"
   ]
  },
  {
   "cell_type": "code",
   "execution_count": 616,
   "id": "cd0f8372",
   "metadata": {},
   "outputs": [],
   "source": [
    "contingency = temp"
   ]
  },
  {
   "cell_type": "code",
   "execution_count": 617,
   "id": "413e5191",
   "metadata": {
    "scrolled": true
   },
   "outputs": [],
   "source": [
    "temp = pd.concat([temp,pd.get_dummies(temp['Make'])],axis = 1)"
   ]
  },
  {
   "cell_type": "code",
   "execution_count": 618,
   "id": "519a1203",
   "metadata": {},
   "outputs": [],
   "source": [
    "temp = temp.drop('Make',axis = 1)"
   ]
  },
  {
   "cell_type": "code",
   "execution_count": 619,
   "id": "06cc46a7",
   "metadata": {},
   "outputs": [],
   "source": [
    "temp = pd.concat([temp,pd.get_dummies(temp['Condition'])],axis = 1)"
   ]
  },
  {
   "cell_type": "code",
   "execution_count": 620,
   "id": "84d3f825",
   "metadata": {},
   "outputs": [],
   "source": [
    "temp = temp.drop('Condition',axis= 1)"
   ]
  },
  {
   "cell_type": "code",
   "execution_count": 621,
   "id": "29b1f18f",
   "metadata": {},
   "outputs": [],
   "source": [
    "temp = pd.concat([temp,pd.get_dummies(temp['Fuel'])],axis = 1)"
   ]
  },
  {
   "cell_type": "code",
   "execution_count": 622,
   "id": "54305df5",
   "metadata": {},
   "outputs": [],
   "source": [
    "temp = temp.drop('Fuel',axis = 1)"
   ]
  },
  {
   "cell_type": "code",
   "execution_count": 623,
   "id": "7f620782",
   "metadata": {},
   "outputs": [],
   "source": [
    "temp = pd.concat([temp,pd.get_dummies(temp['Transmission'])],axis = 1)"
   ]
  },
  {
   "cell_type": "code",
   "execution_count": 624,
   "id": "0bf65714",
   "metadata": {},
   "outputs": [],
   "source": [
    "temp = temp.drop('Transmission',axis = 1)"
   ]
  },
  {
   "cell_type": "code",
   "execution_count": 625,
   "id": "de849545",
   "metadata": {},
   "outputs": [],
   "source": [
    "def str_conv(Price):\n",
    "    Price = str(Price)\n",
    "    return(Price)"
   ]
  },
  {
   "cell_type": "code",
   "execution_count": 626,
   "id": "c52404f7",
   "metadata": {},
   "outputs": [],
   "source": [
    "temp['Price'] = temp['Price'].apply(lambda x: str_conv(x))"
   ]
  },
  {
   "cell_type": "code",
   "execution_count": 627,
   "id": "afe24ae5",
   "metadata": {},
   "outputs": [],
   "source": [
    "temp['Price'] = temp['Price'].apply(lambda x:x.replace(',',''))"
   ]
  },
  {
   "cell_type": "code",
   "execution_count": 628,
   "id": "4e0b4b7c",
   "metadata": {},
   "outputs": [],
   "source": [
    "def float_con(price):\n",
    "    price = float(price)\n",
    "    return price"
   ]
  },
  {
   "cell_type": "code",
   "execution_count": 629,
   "id": "e3140e84",
   "metadata": {},
   "outputs": [],
   "source": [
    "temp['Price'] = temp['Price'].apply(lambda x: float_con(x))"
   ]
  },
  {
   "cell_type": "code",
   "execution_count": 630,
   "id": "ba12cf75",
   "metadata": {},
   "outputs": [
    {
     "data": {
      "text/plain": [
       "3992    472500.0\n",
       "3954    525000.0\n",
       "3971    525000.0\n",
       "3998    525000.0\n",
       "3935    525000.0\n",
       "3939    525000.0\n",
       "3927    525000.0\n",
       "4001    577500.0\n",
       "4016    577500.0\n",
       "4030    577500.0\n",
       "4023    577500.0\n",
       "3969    600000.0\n",
       "4044    618750.0\n",
       "3946    630000.0\n",
       "3957    630000.0\n",
       "3958    630000.0\n",
       "3974    630000.0\n",
       "3949    630000.0\n",
       "3829    630000.0\n",
       "3975    630000.0\n",
       "3851    630000.0\n",
       "4051    675000.0\n",
       "3907    682500.0\n",
       "3956    682500.0\n",
       "3810    682500.0\n",
       "3785    682500.0\n",
       "3926    682500.0\n",
       "3924    682500.0\n",
       "3963    682500.0\n",
       "3861    682500.0\n",
       "Name: Price, dtype: float64"
      ]
     },
     "execution_count": 630,
     "metadata": {},
     "output_type": "execute_result"
    }
   ],
   "source": [
    "temp['Price'].sort_values().head(30)"
   ]
  },
  {
   "cell_type": "code",
   "execution_count": 631,
   "id": "8a587f3f",
   "metadata": {},
   "outputs": [
    {
     "data": {
      "text/plain": [
       "135     23920000.0\n",
       "288     24150000.0\n",
       "611     24150000.0\n",
       "447     26000000.0\n",
       "2365    26000000.0\n",
       "269     26000000.0\n",
       "191     26000000.0\n",
       "175     26000000.0\n",
       "554     26250000.0\n",
       "3153    27040000.0\n",
       "3134    27040000.0\n",
       "1783    27300000.0\n",
       "3930    27300000.0\n",
       "3897    27300000.0\n",
       "681     32550000.0\n",
       "247     33280000.0\n",
       "1535    34650000.0\n",
       "87      36750000.0\n",
       "94      36750000.0\n",
       "4006    39375000.0\n",
       "1732    39900000.0\n",
       "59      41600000.0\n",
       "54      42000000.0\n",
       "306     42000000.0\n",
       "3649    42750000.0\n",
       "4058    45000000.0\n",
       "482     46800000.0\n",
       "292     52000000.0\n",
       "424     58800000.0\n",
       "377     58800000.0\n",
       "Name: Price, dtype: float64"
      ]
     },
     "execution_count": 631,
     "metadata": {},
     "output_type": "execute_result"
    }
   ],
   "source": [
    "temp['Price'].sort_values().tail(30)"
   ]
  },
  {
   "cell_type": "code",
   "execution_count": 632,
   "id": "4039a126",
   "metadata": {},
   "outputs": [],
   "source": [
    "def weed_price(df_col, Col):\n",
    "    for i in range(len(df_col)):\n",
    "        if 1000000 <= Col <= 10000000:\n",
    "            return Col\n",
    "            \n",
    "        \n",
    "        else:\n",
    "            Col = None\n",
    "            return Col"
   ]
  },
  {
   "cell_type": "code",
   "execution_count": 633,
   "id": "2bc547ef",
   "metadata": {},
   "outputs": [],
   "source": [
    "temp['Price'] = temp['Price'].apply(lambda x: weed_price(temp['Price'], x))"
   ]
  },
  {
   "cell_type": "code",
   "execution_count": 634,
   "id": "3cfcbcff",
   "metadata": {},
   "outputs": [],
   "source": [
    "temp = temp[temp['Price'].notna()]"
   ]
  },
  {
   "cell_type": "code",
   "execution_count": null,
   "id": "c08b2b8e",
   "metadata": {},
   "outputs": [],
   "source": []
  },
  {
   "cell_type": "code",
   "execution_count": 635,
   "id": "35119c7f",
   "metadata": {},
   "outputs": [],
   "source": [
    "from sklearn.linear_model import LinearRegression"
   ]
  },
  {
   "cell_type": "code",
   "execution_count": 636,
   "id": "0167b051",
   "metadata": {},
   "outputs": [],
   "source": [
    "from sklearn.model_selection import train_test_split"
   ]
  },
  {
   "cell_type": "code",
   "execution_count": 639,
   "id": "58d3a745",
   "metadata": {},
   "outputs": [],
   "source": [
    "final_contingency = temp"
   ]
  },
  {
   "cell_type": "code",
   "execution_count": 648,
   "id": "9b1c2667",
   "metadata": {},
   "outputs": [],
   "source": [
    "X = temp.drop('Price',axis =1)\n",
    "y = temp['Price']"
   ]
  },
  {
   "cell_type": "code",
   "execution_count": 665,
   "id": "c4ce8475",
   "metadata": {},
   "outputs": [],
   "source": [
    "X_train, X_test,y_train,y_test = train_test_split(X,y,test_size = 0.3)"
   ]
  },
  {
   "cell_type": "code",
   "execution_count": 642,
   "id": "612926c6",
   "metadata": {},
   "outputs": [],
   "source": [
    "model = LinearRegression()"
   ]
  },
  {
   "cell_type": "code",
   "execution_count": 666,
   "id": "a3f2d91f",
   "metadata": {},
   "outputs": [
    {
     "data": {
      "text/plain": [
       "LinearRegression()"
      ]
     },
     "execution_count": 666,
     "metadata": {},
     "output_type": "execute_result"
    }
   ],
   "source": [
    "model.fit(X_train,y_train)"
   ]
  },
  {
   "cell_type": "code",
   "execution_count": 667,
   "id": "19359fe2",
   "metadata": {},
   "outputs": [],
   "source": [
    "y_pred = model.predict(X_test)"
   ]
  },
  {
   "cell_type": "code",
   "execution_count": 658,
   "id": "cba8e957",
   "metadata": {},
   "outputs": [
    {
     "data": {
      "text/plain": [
       "3040    1470000.0\n",
       "3254    2080000.0\n",
       "2676    1050000.0\n",
       "3664    2137500.0\n",
       "2631    1942500.0\n",
       "          ...    \n",
       "1639    1995000.0\n",
       "2715    3675000.0\n",
       "3297    1155000.0\n",
       "4062    1237500.0\n",
       "763     3744000.0\n",
       "Name: Price, Length: 905, dtype: float64"
      ]
     },
     "execution_count": 658,
     "metadata": {},
     "output_type": "execute_result"
    }
   ],
   "source": [
    "y_test"
   ]
  },
  {
   "cell_type": "code",
   "execution_count": 692,
   "id": "2c9d7888",
   "metadata": {},
   "outputs": [
    {
     "data": {
      "text/plain": [
       "['1.0', '1.1', '1.2', '1.3', '2.0', '3.0', '4.0', '5.0']"
      ]
     },
     "execution_count": 692,
     "metadata": {},
     "output_type": "execute_result"
    }
   ],
   "source": []
  },
  {
   "cell_type": "code",
   "execution_count": 668,
   "id": "46ef254c",
   "metadata": {},
   "outputs": [
    {
     "data": {
      "text/plain": [
       "0.6086022003789859"
      ]
     },
     "execution_count": 668,
     "metadata": {},
     "output_type": "execute_result"
    }
   ],
   "source": [
    "model.score(X_test,y_test)"
   ]
  },
  {
   "cell_type": "code",
   "execution_count": 691,
   "id": "a055d24e",
   "metadata": {},
   "outputs": [
    {
     "data": {
      "text/plain": [
       "Index(['Year of manufacture', 'Mileage', 'Engine Size', 'Price', 'Acura',\n",
       "       'BMW', 'Chevrolet', 'Ford', 'Honda', 'Hyundai', 'Infiniti', 'Kia',\n",
       "       'Land Rover', 'Lexus', 'Mazda', 'Mercedes-Benz', 'Mitsubishi', 'Nissan',\n",
       "       'Peugeot', 'Pontiac', 'Suzuki', 'Toyota', 'Volkswagen', 'Volvo',\n",
       "       'Brand New', 'Foreign Used', 'Nigerian Used', 'Diesel', 'Electric',\n",
       "       'Hybrid', 'Petrol', 'AMT', 'Automatic', 'CVT', 'Manual'],\n",
       "      dtype='object')"
      ]
     },
     "execution_count": 691,
     "metadata": {},
     "output_type": "execute_result"
    }
   ],
   "source": [
    "temp.columns"
   ]
  },
  {
   "cell_type": "code",
   "execution_count": 669,
   "id": "a00ab107",
   "metadata": {},
   "outputs": [],
   "source": [
    "import pickle"
   ]
  },
  {
   "cell_type": "code",
   "execution_count": 671,
   "id": "84fe5225",
   "metadata": {},
   "outputs": [],
   "source": [
    "pickle.dump(model,open('Naija_Cars_model.pickle','wb'))"
   ]
  }
 ],
 "metadata": {
  "kernelspec": {
   "display_name": "Python 3 (ipykernel)",
   "language": "python",
   "name": "python3"
  },
  "language_info": {
   "codemirror_mode": {
    "name": "ipython",
    "version": 3
   },
   "file_extension": ".py",
   "mimetype": "text/x-python",
   "name": "python",
   "nbconvert_exporter": "python",
   "pygments_lexer": "ipython3",
   "version": "3.9.15"
  }
 },
 "nbformat": 4,
 "nbformat_minor": 5
}
